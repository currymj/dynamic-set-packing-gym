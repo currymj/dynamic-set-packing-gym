{
 "cells": [
  {
   "cell_type": "code",
   "execution_count": 1,
   "metadata": {},
   "outputs": [],
   "source": [
    "%matplotlib inline\n",
    "import torch\n",
    "from torch import nn\n",
    "import numpy as np\n",
    "import matplotlib.pyplot as plt\n",
    "from tqdm import tqdm_notebook as tqdm"
   ]
  },
  {
   "cell_type": "code",
   "execution_count": 2,
   "metadata": {},
   "outputs": [],
   "source": [
    "import gym\n",
    "from gym import spaces\n",
    "import gym_dynamic_set_packing\n",
    "import time"
   ]
  },
  {
   "cell_type": "code",
   "execution_count": 3,
   "metadata": {},
   "outputs": [
    {
     "data": {
      "text/plain": [
       "1.1920928955078125e-07"
      ]
     },
     "execution_count": 3,
     "metadata": {},
     "output_type": "execute_result"
    }
   ],
   "source": [
    "np.finfo(np.float32).eps.item()"
   ]
  },
  {
   "cell_type": "code",
   "execution_count": 4,
   "metadata": {},
   "outputs": [],
   "source": [
    "def running_mean(x, N):\n",
    "    cumsum = np.cumsum(np.insert(x, 0, 0)) \n",
    "    return (cumsum[N:] - cumsum[:-N]) / float(N)"
   ]
  },
  {
   "cell_type": "markdown",
   "metadata": {},
   "source": [
    "## training loop code"
   ]
  },
  {
   "cell_type": "markdown",
   "metadata": {},
   "source": [
    "below is the code for the training loop. after that are definitions of two simple agents."
   ]
  },
  {
   "cell_type": "code",
   "execution_count": 47,
   "metadata": {},
   "outputs": [],
   "source": [
    "def train_loop(env, agent, episode_count, batches_per_episode, max_steps, quiet=False):\n",
    "    done = False\n",
    "    ep_rewards = []\n",
    "\n",
    "    for i in tqdm(range(episode_count)):\n",
    "        reward = 0.0\n",
    "        if not quiet:\n",
    "            print('episode {}'.format(i))\n",
    "        total_reward = 0.0\n",
    "        history_dict = {\n",
    "            'actions': [],\n",
    "            'observations': [],\n",
    "            'rewards': []\n",
    "        }\n",
    "        for batch_idx in range(batches_per_episode):\n",
    "            curr_obs = []\n",
    "            curr_act = []\n",
    "            curr_reward = []\n",
    "            ob = env.reset()\n",
    "            for i in range(max_steps):\n",
    "                curr_obs.append(ob)\n",
    "                action = agent.act(ob, reward, done)\n",
    "                curr_act.append(action)\n",
    "                ob, reward, done, _ = env.step(action)\n",
    "                curr_reward.append(reward)\n",
    "                if not quiet:\n",
    "                    print('action taken: {}, reward: {}, new state: {}'.format(action, reward, env.render()))\n",
    "            history_dict['observations'].append(np.stack(curr_obs,axis=0))\n",
    "            history_dict['actions'].append(curr_act)\n",
    "            history_dict['rewards'].append(curr_reward)\n",
    "        total_reward = np.sum(history_dict['rewards']) / batches_per_episode\n",
    "        agent.learn(history_dict)\n",
    "        history_dict = None\n",
    "        if not quiet:\n",
    "            print('total episode reward: {}'.format(total_reward))\n",
    "        ep_rewards.append(total_reward)\n",
    "    return ep_rewards"
   ]
  },
  {
   "cell_type": "markdown",
   "metadata": {},
   "source": [
    "## agents"
   ]
  },
  {
   "cell_type": "code",
   "execution_count": 48,
   "metadata": {},
   "outputs": [],
   "source": [
    "class RandomMatchAgent:\n",
    "    \"A simple agent for the 0/1 problem that always matches.\"\n",
    "    def __init__(self, match_prob):\n",
    "        self.policy_dist = torch.distributions.Categorical(torch.tensor([1 - match_prob, match_prob], dtype=torch.float32))\n",
    "        self.action_space = spaces.Discrete(2)\n",
    "\n",
    "    def act(self, observation, reward, done):\n",
    "        action_sample = self.policy_dist.sample()\n",
    "        return action_sample.item()\n",
    "    \n",
    "    def learn(self, history_dict):\n",
    "        pass"
   ]
  },
  {
   "cell_type": "code",
   "execution_count": 49,
   "metadata": {},
   "outputs": [],
   "source": [
    "def discounted_episode_returns(rewards, gamma=0.99, standardize=False):\n",
    "    \"\"\"\n",
    "    Given a sequence of rewards, returns the sequence\n",
    "    of the discounted returns (G_t) at each time step,\n",
    "    with discount rate gamma (default 0.999).\n",
    "    \"\"\"\n",
    "    # thanks to yuhao for writing this code for another project\n",
    "    length = len(rewards)\n",
    "    discounts = [gamma**x for x in range(length)]\n",
    "    result = [np.dot(discounts[:length-i], rewards[i:]) for i in range(length)]\n",
    "    result_np = np.array(result, dtype='float32')\n",
    "\n",
    "    if standardize:\n",
    "        result_np = (result_np - result_np.mean()) / (result_np.std() + 1e-7)\n",
    "    return result_np"
   ]
  },
  {
   "cell_type": "code",
   "execution_count": 72,
   "metadata": {},
   "outputs": [],
   "source": [
    "def pg_target(policy_dist, rewards, action_trajectory):\n",
    "    \"\"\"\n",
    "    The policy gradient target loss (without baseline). Note it should be negative because\n",
    "    optimizers minimize by default. Rewards should be cumulative and discounted.\n",
    "    All inputs should already be tensors, not lists or np arrays.\n",
    "    \"\"\"\n",
    "    return torch.mean(-policy_dist.log_prob(action_trajectory)*rewards)"
   ]
  },
  {
   "cell_type": "code",
   "execution_count": null,
   "metadata": {},
   "outputs": [],
   "source": []
  },
  {
   "cell_type": "code",
   "execution_count": 67,
   "metadata": {},
   "outputs": [],
   "source": [
    "class LinearMatchAgent:\n",
    "    def __init__(self, observation_shape, gamma=0.99, gpu=False):\n",
    "        self.action_space = spaces.Discrete(2)\n",
    "        \n",
    "        self.policy_net = nn.Sequential(\n",
    "            nn.Linear(observation_shape, 2, bias=False),\n",
    "            nn.Softmax())\n",
    "        self.value_net = nn.Sequential(\n",
    "            nn.Linear(observation_shape, 1, bias=True),\n",
    "        )\n",
    "\n",
    "        self.gpu = gpu\n",
    "        if gpu:\n",
    "            self.policy_net.cuda()\n",
    "            self.value_net.cuda()\n",
    "            self.device = torch.device('cuda:0')\n",
    "        else:\n",
    "            self.device = torch.device('cpu')\n",
    "        self.optimizer = torch.optim.Adam(list(self.policy_net.parameters()) + list(self.value_net.parameters()))\n",
    "        self.gamma = gamma\n",
    "    \n",
    "    def policy(self, observation_batch):\n",
    "        return torch.distributions.Categorical(probs=self.policy_net(observation_batch))\n",
    "    def value(self, observation_batch):\n",
    "        return self.value_net(observation_batch)\n",
    "\n",
    "    def act(self, observation, reward, done):\n",
    "        \"Act on a single observation, return an action.\"\n",
    "        observation_as_batch = torch.tensor(np.expand_dims(observation, 0), dtype=torch.float32, requires_grad=False, device=self.device)\n",
    "        action_sample = self.policy(observation_as_batch).sample().detach().cpu().numpy()\n",
    "        return action_sample[0]\n",
    "    \n",
    "    def learn(self, history_dict):\n",
    "        \"\"\"\n",
    "        Perform the policy gradient update with its optimizer and policy.\n",
    "        \n",
    "        history_dict in general contains batches of episodes; we flatten these out\n",
    "        into one enormous batch (as long as discounting of rewards is done correctly, the policy gradient loss\n",
    "        doesn't care where each example came from).\n",
    "        \"\"\"\n",
    "        \n",
    "        # discounted returns, flattened out\n",
    "        disc_returns = torch.as_tensor(np.concatenate([discounted_episode_returns(r, gamma=self.gamma) for r in history_dict['rewards']]), dtype=torch.float32, device=self.device)\n",
    "        observations_tensor = torch.as_tensor(np.vstack(history_dict['observations']), dtype=torch.float32, device=self.device)\n",
    "        actions_tensor = torch.as_tensor(np.concatenate(history_dict['actions']), dtype=torch.float32, device=self.device)\n",
    "        #print(disc_returns)\n",
    "        #print(observations_tensor)\n",
    "        #print(actions_tensor)\n",
    "        self.optimizer.zero_grad()\n",
    "        policy_dists = self.policy(observations_tensor)\n",
    "        value_estimates = self.value(observations_tensor)\n",
    "        delta = disc_returns - value_estimates\n",
    "        value_loss = delta.pow(2).mean() # delta.pow(2) instead?\n",
    "        \n",
    "        policy_loss = pg_target(policy_dists,\n",
    "                             disc_returns,\n",
    "                             actions_tensor)\n",
    "        global_pol_loss.append(policy_loss.item())\n",
    "        torch.autograd.backward([policy_loss, value_loss])\n",
    "        self.optimizer.step()"
   ]
  },
  {
   "cell_type": "markdown",
   "metadata": {},
   "source": [
    "## adversary example (fast, testing)"
   ]
  },
  {
   "cell_type": "code",
   "execution_count": 81,
   "metadata": {},
   "outputs": [
    {
     "data": {
      "application/vnd.jupyter.widget-view+json": {
       "model_id": "81043c2ef145495e8a1dd137e0415b08",
       "version_major": 2,
       "version_minor": 0
      },
      "text/plain": [
       "HBox(children=(IntProgress(value=0, max=3), HTML(value='')))"
      ]
     },
     "metadata": {},
     "output_type": "display_data"
    },
    {
     "name": "stdout",
     "output_type": "stream",
     "text": [
      "\n"
     ]
    }
   ],
   "source": [
    "env_example = gym.make('CartPole-v0')\n",
    "ag = LinearMatchAgent(env_example.observation_space.shape[0], gamma=0.999)\n",
    "small_orig_weight = ag.policy_net[0].weight.detach().numpy().copy()\n",
    "#small_orig_bias = ag.policy_net[0].bias.detach().numpy().copy()\n",
    "ep_rewards = train_loop(env_example, ag, 3,1, 10, quiet=True)"
   ]
  },
  {
   "cell_type": "code",
   "execution_count": 65,
   "metadata": {},
   "outputs": [
    {
     "data": {
      "application/vnd.jupyter.widget-view+json": {
       "model_id": "274b508e62be47cfaf357ba69c80aaf6",
       "version_major": 2,
       "version_minor": 0
      },
      "text/plain": [
       "HBox(children=(IntProgress(value=0, max=3), HTML(value='')))"
      ]
     },
     "metadata": {},
     "output_type": "display_data"
    },
    {
     "name": "stdout",
     "output_type": "stream",
     "text": [
      "episode 0\n",
      "action taken: 1, reward: 0.0, new state: [1. 1. 0. 0. 0.]\n",
      "action taken: 1, reward: 2.0, new state: [0. 0. 1. 1. 1.]\n",
      "action taken: 1, reward: 0.0, new state: [0. 0. 0. 0. 0.]\n",
      "action taken: 0, reward: 0.0, new state: [1. 1. 0. 0. 0.]\n",
      "action taken: 1, reward: 2.0, new state: [0. 0. 1. 1. 1.]\n",
      "action taken: 0, reward: 0.0, new state: [0. 0. 0. 0. 0.]\n",
      "action taken: 1, reward: 0.0, new state: [1. 1. 0. 0. 0.]\n",
      "action taken: 1, reward: 2.0, new state: [0. 0. 1. 1. 1.]\n",
      "action taken: 0, reward: 0.0, new state: [0. 0. 0. 0. 0.]\n",
      "action taken: 1, reward: 0.0, new state: [1. 1. 0. 0. 0.]\n",
      "tensor(20.5071, grad_fn=<SumBackward0>)\n",
      "total episode reward: 6.0\n",
      "episode 1\n",
      "action taken: 1, reward: 0.0, new state: [1. 1. 0. 0. 0.]\n",
      "action taken: 1, reward: 2.0, new state: [0. 0. 1. 1. 1.]\n",
      "action taken: 1, reward: 0.0, new state: [0. 0. 0. 0. 0.]\n",
      "action taken: 0, reward: 0.0, new state: [1. 1. 0. 0. 0.]\n",
      "action taken: 0, reward: 0.0, new state: [1. 1. 1. 1. 1.]\n",
      "action taken: 0, reward: 0.0, new state: [0. 0. 0. 0. 0.]\n",
      "action taken: 1, reward: 0.0, new state: [1. 1. 0. 0. 0.]\n",
      "action taken: 1, reward: 2.0, new state: [0. 0. 1. 1. 1.]\n",
      "action taken: 1, reward: 0.0, new state: [0. 0. 0. 0. 0.]\n",
      "action taken: 1, reward: 0.0, new state: [1. 1. 0. 0. 0.]\n",
      "tensor(14.2903, grad_fn=<SumBackward0>)\n",
      "total episode reward: 4.0\n",
      "episode 2\n",
      "action taken: 0, reward: 0.0, new state: [1. 1. 0. 0. 0.]\n",
      "action taken: 0, reward: 0.0, new state: [1. 1. 1. 1. 1.]\n",
      "action taken: 0, reward: 0.0, new state: [0. 0. 0. 0. 0.]\n",
      "action taken: 0, reward: 0.0, new state: [1. 1. 0. 0. 0.]\n",
      "action taken: 0, reward: 0.0, new state: [1. 1. 1. 1. 1.]\n",
      "action taken: 1, reward: 5.0, new state: [0. 0. 0. 0. 0.]\n",
      "action taken: 0, reward: 0.0, new state: [1. 1. 0. 0. 0.]\n",
      "action taken: 1, reward: 2.0, new state: [0. 0. 1. 1. 1.]\n",
      "action taken: 1, reward: 0.0, new state: [0. 0. 0. 0. 0.]\n",
      "action taken: 1, reward: 0.0, new state: [1. 1. 0. 0. 0.]\n",
      "tensor(34.8067, grad_fn=<SumBackward0>)\n",
      "total episode reward: 7.0\n",
      "\n"
     ]
    }
   ],
   "source": [
    "env_example = gym.make('DynamicSetPacking-adversarial-v0')\n",
    "ag = LinearMatchAgent(env_example.observation_space.shape[0], gamma=0.999)\n",
    "small_orig_weight = ag.policy_net[0].weight.detach().numpy().copy()\n",
    "#small_orig_bias = ag.policy_net[0].bias.detach().numpy().copy()\n",
    "ep_rewards = train_loop(env_example, ag, 3,1, 10, quiet=False)"
   ]
  },
  {
   "cell_type": "markdown",
   "metadata": {},
   "source": [
    "## adversary example (long)"
   ]
  },
  {
   "cell_type": "code",
   "execution_count": 88,
   "metadata": {},
   "outputs": [
    {
     "data": {
      "application/vnd.jupyter.widget-view+json": {
       "model_id": "5b56711f40bc4e3dada36a020306340d",
       "version_major": 2,
       "version_minor": 0
      },
      "text/plain": [
       "HBox(children=(IntProgress(value=0, max=500), HTML(value='')))"
      ]
     },
     "metadata": {},
     "output_type": "display_data"
    },
    {
     "name": "stdout",
     "output_type": "stream",
     "text": [
      "\n"
     ]
    }
   ],
   "source": [
    "env_example = gym.make('CartPole-v0')\n",
    "lin_ag = LinearMatchAgent(env_example.observation_space.shape[0], gamma=0.9999, gpu=False)\n",
    "orig_weight = lin_ag.policy_net[0].weight.detach().numpy().copy()\n",
    "#orig_bias = lin_ag.policy_net[0].bias.detach().numpy().copy()\n",
    "ep_rewards = train_loop(env_example, lin_ag, 500, 8,100, quiet=True)"
   ]
  },
  {
   "cell_type": "code",
   "execution_count": 54,
   "metadata": {
    "collapsed": true
   },
   "outputs": [
    {
     "data": {
      "application/vnd.jupyter.widget-view+json": {
       "model_id": "b9f91312556a4f238dca98978e7f03f3",
       "version_major": 2,
       "version_minor": 0
      },
      "text/plain": [
       "HBox(children=(IntProgress(value=0, max=3000), HTML(value='')))"
      ]
     },
     "metadata": {},
     "output_type": "display_data"
    },
    {
     "name": "stdout",
     "output_type": "stream",
     "text": [
      "\n"
     ]
    },
    {
     "ename": "KeyboardInterrupt",
     "evalue": "",
     "output_type": "error",
     "traceback": [
      "\u001b[0;31m---------------------------------------------------------------------------\u001b[0m",
      "\u001b[0;31mKeyboardInterrupt\u001b[0m                         Traceback (most recent call last)",
      "\u001b[0;32m<ipython-input-54-86a24e93525a>\u001b[0m in \u001b[0;36m<module>\u001b[0;34m\u001b[0m\n\u001b[1;32m      3\u001b[0m \u001b[0morig_weight\u001b[0m \u001b[0;34m=\u001b[0m \u001b[0mlin_ag\u001b[0m\u001b[0;34m.\u001b[0m\u001b[0mpolicy_net\u001b[0m\u001b[0;34m[\u001b[0m\u001b[0;36m0\u001b[0m\u001b[0;34m]\u001b[0m\u001b[0;34m.\u001b[0m\u001b[0mweight\u001b[0m\u001b[0;34m.\u001b[0m\u001b[0mdetach\u001b[0m\u001b[0;34m(\u001b[0m\u001b[0;34m)\u001b[0m\u001b[0;34m.\u001b[0m\u001b[0mnumpy\u001b[0m\u001b[0;34m(\u001b[0m\u001b[0;34m)\u001b[0m\u001b[0;34m.\u001b[0m\u001b[0mcopy\u001b[0m\u001b[0;34m(\u001b[0m\u001b[0;34m)\u001b[0m\u001b[0;34m\u001b[0m\u001b[0;34m\u001b[0m\u001b[0m\n\u001b[1;32m      4\u001b[0m \u001b[0;31m#orig_bias = lin_ag.policy_net[0].bias.detach().numpy().copy()\u001b[0m\u001b[0;34m\u001b[0m\u001b[0;34m\u001b[0m\u001b[0;34m\u001b[0m\u001b[0m\n\u001b[0;32m----> 5\u001b[0;31m \u001b[0mep_rewards\u001b[0m \u001b[0;34m=\u001b[0m \u001b[0mtrain_loop\u001b[0m\u001b[0;34m(\u001b[0m\u001b[0menv_example\u001b[0m\u001b[0;34m,\u001b[0m \u001b[0mlin_ag\u001b[0m\u001b[0;34m,\u001b[0m \u001b[0;36m3000\u001b[0m\u001b[0;34m,\u001b[0m \u001b[0;36m8\u001b[0m\u001b[0;34m,\u001b[0m\u001b[0;36m10\u001b[0m\u001b[0;34m,\u001b[0m \u001b[0mquiet\u001b[0m\u001b[0;34m=\u001b[0m\u001b[0;32mTrue\u001b[0m\u001b[0;34m)\u001b[0m\u001b[0;34m\u001b[0m\u001b[0;34m\u001b[0m\u001b[0m\n\u001b[0m",
      "\u001b[0;32m<ipython-input-47-722a9beb96b3>\u001b[0m in \u001b[0;36mtrain_loop\u001b[0;34m(env, agent, episode_count, batches_per_episode, max_steps, quiet)\u001b[0m\n\u001b[1;32m     22\u001b[0m                 \u001b[0maction\u001b[0m \u001b[0;34m=\u001b[0m \u001b[0magent\u001b[0m\u001b[0;34m.\u001b[0m\u001b[0mact\u001b[0m\u001b[0;34m(\u001b[0m\u001b[0mob\u001b[0m\u001b[0;34m,\u001b[0m \u001b[0mreward\u001b[0m\u001b[0;34m,\u001b[0m \u001b[0mdone\u001b[0m\u001b[0;34m)\u001b[0m\u001b[0;34m\u001b[0m\u001b[0;34m\u001b[0m\u001b[0m\n\u001b[1;32m     23\u001b[0m                 \u001b[0mcurr_act\u001b[0m\u001b[0;34m.\u001b[0m\u001b[0mappend\u001b[0m\u001b[0;34m(\u001b[0m\u001b[0maction\u001b[0m\u001b[0;34m)\u001b[0m\u001b[0;34m\u001b[0m\u001b[0;34m\u001b[0m\u001b[0m\n\u001b[0;32m---> 24\u001b[0;31m                 \u001b[0mob\u001b[0m\u001b[0;34m,\u001b[0m \u001b[0mreward\u001b[0m\u001b[0;34m,\u001b[0m \u001b[0mdone\u001b[0m\u001b[0;34m,\u001b[0m \u001b[0m_\u001b[0m \u001b[0;34m=\u001b[0m \u001b[0menv\u001b[0m\u001b[0;34m.\u001b[0m\u001b[0mstep\u001b[0m\u001b[0;34m(\u001b[0m\u001b[0maction\u001b[0m\u001b[0;34m)\u001b[0m\u001b[0;34m\u001b[0m\u001b[0;34m\u001b[0m\u001b[0m\n\u001b[0m\u001b[1;32m     25\u001b[0m                 \u001b[0mcurr_reward\u001b[0m\u001b[0;34m.\u001b[0m\u001b[0mappend\u001b[0m\u001b[0;34m(\u001b[0m\u001b[0mreward\u001b[0m\u001b[0;34m)\u001b[0m\u001b[0;34m\u001b[0m\u001b[0;34m\u001b[0m\u001b[0m\n\u001b[1;32m     26\u001b[0m                 \u001b[0;32mif\u001b[0m \u001b[0;32mnot\u001b[0m \u001b[0mquiet\u001b[0m\u001b[0;34m:\u001b[0m\u001b[0;34m\u001b[0m\u001b[0;34m\u001b[0m\u001b[0m\n",
      "\u001b[0;32m~/src/dynamic-set-packing-gym/gym_dynamic_set_packing/envs/dynamic_set_packing_env.py\u001b[0m in \u001b[0;36mstep\u001b[0;34m(self, action)\u001b[0m\n\u001b[1;32m     29\u001b[0m         \u001b[0mreward\u001b[0m \u001b[0;34m=\u001b[0m \u001b[0;36m0.0\u001b[0m\u001b[0;34m\u001b[0m\u001b[0;34m\u001b[0m\u001b[0m\n\u001b[1;32m     30\u001b[0m         \u001b[0;32mif\u001b[0m \u001b[0maction\u001b[0m \u001b[0;34m==\u001b[0m \u001b[0;36m1\u001b[0m\u001b[0;34m:\u001b[0m\u001b[0;34m\u001b[0m\u001b[0;34m\u001b[0m\u001b[0m\n\u001b[0;32m---> 31\u001b[0;31m             \u001b[0mchosen_match\u001b[0m \u001b[0;34m=\u001b[0m \u001b[0mself\u001b[0m\u001b[0;34m.\u001b[0m\u001b[0m_perform_match\u001b[0m\u001b[0;34m(\u001b[0m\u001b[0mself\u001b[0m\u001b[0;34m.\u001b[0m\u001b[0mstate\u001b[0m\u001b[0;34m)\u001b[0m\u001b[0;34m\u001b[0m\u001b[0;34m\u001b[0m\u001b[0m\n\u001b[0m\u001b[1;32m     32\u001b[0m             \u001b[0mreward\u001b[0m \u001b[0;34m=\u001b[0m \u001b[0mself\u001b[0m\u001b[0;34m.\u001b[0m\u001b[0m_run_match\u001b[0m\u001b[0;34m(\u001b[0m\u001b[0mchosen_match\u001b[0m\u001b[0;34m)\u001b[0m\u001b[0;34m\u001b[0m\u001b[0;34m\u001b[0m\u001b[0m\n\u001b[1;32m     33\u001b[0m \u001b[0;34m\u001b[0m\u001b[0m\n",
      "\u001b[0;32m~/src/dynamic-set-packing-gym/gym_dynamic_set_packing/envs/dynamic_set_packing_env.py\u001b[0m in \u001b[0;36m_perform_match\u001b[0;34m(self, state)\u001b[0m\n\u001b[1;32m     90\u001b[0m \u001b[0;34m\u001b[0m\u001b[0m\n\u001b[1;32m     91\u001b[0m     \u001b[0;32mdef\u001b[0m \u001b[0m_perform_match\u001b[0m\u001b[0;34m(\u001b[0m\u001b[0mself\u001b[0m\u001b[0;34m,\u001b[0m \u001b[0mstate\u001b[0m\u001b[0;34m)\u001b[0m\u001b[0;34m:\u001b[0m\u001b[0;34m\u001b[0m\u001b[0;34m\u001b[0m\u001b[0m\n\u001b[0;32m---> 92\u001b[0;31m         \u001b[0;32mreturn\u001b[0m \u001b[0mself\u001b[0m\u001b[0;34m.\u001b[0m\u001b[0mmatcher\u001b[0m\u001b[0;34m.\u001b[0m\u001b[0mmatch\u001b[0m\u001b[0;34m(\u001b[0m\u001b[0mstate\u001b[0m\u001b[0;34m)\u001b[0m\u001b[0;34m\u001b[0m\u001b[0;34m\u001b[0m\u001b[0m\n\u001b[0m\u001b[1;32m     93\u001b[0m \u001b[0;34m\u001b[0m\u001b[0m\n\u001b[1;32m     94\u001b[0m     \u001b[0;32mdef\u001b[0m \u001b[0m_run_match\u001b[0m\u001b[0;34m(\u001b[0m\u001b[0mself\u001b[0m\u001b[0;34m,\u001b[0m \u001b[0mmatch\u001b[0m\u001b[0;34m)\u001b[0m\u001b[0;34m:\u001b[0m\u001b[0;34m\u001b[0m\u001b[0;34m\u001b[0m\u001b[0m\n",
      "\u001b[0;32m~/src/dynamic-set-packing-gym/gym_dynamic_set_packing/matchers/matcher.py\u001b[0m in \u001b[0;36mmatch\u001b[0;34m(self, state)\u001b[0m\n\u001b[1;32m     37\u001b[0m             \u001b[0mconstr\u001b[0m\u001b[0;34m.\u001b[0m\u001b[0msetAttr\u001b[0m\u001b[0;34m(\u001b[0m\u001b[0mgr\u001b[0m\u001b[0;34m.\u001b[0m\u001b[0mGRB\u001b[0m\u001b[0;34m.\u001b[0m\u001b[0mAttr\u001b[0m\u001b[0;34m.\u001b[0m\u001b[0mRHS\u001b[0m\u001b[0;34m,\u001b[0m \u001b[0mstate\u001b[0m\u001b[0;34m[\u001b[0m\u001b[0mi\u001b[0m\u001b[0;34m]\u001b[0m\u001b[0;34m)\u001b[0m\u001b[0;34m\u001b[0m\u001b[0;34m\u001b[0m\u001b[0m\n\u001b[1;32m     38\u001b[0m \u001b[0;34m\u001b[0m\u001b[0m\n\u001b[0;32m---> 39\u001b[0;31m         \u001b[0mself\u001b[0m\u001b[0;34m.\u001b[0m\u001b[0mm\u001b[0m\u001b[0;34m.\u001b[0m\u001b[0moptimize\u001b[0m\u001b[0;34m(\u001b[0m\u001b[0;34m)\u001b[0m\u001b[0;34m\u001b[0m\u001b[0;34m\u001b[0m\u001b[0m\n\u001b[0m\u001b[1;32m     40\u001b[0m         \u001b[0msolns\u001b[0m \u001b[0;34m=\u001b[0m \u001b[0;34m[\u001b[0m\u001b[0mx\u001b[0m\u001b[0;34m.\u001b[0m\u001b[0mx\u001b[0m \u001b[0;32mfor\u001b[0m \u001b[0mx\u001b[0m \u001b[0;32min\u001b[0m \u001b[0mself\u001b[0m\u001b[0;34m.\u001b[0m\u001b[0mx_vars\u001b[0m\u001b[0;34m]\u001b[0m\u001b[0;34m\u001b[0m\u001b[0;34m\u001b[0m\u001b[0m\n\u001b[1;32m     41\u001b[0m         \u001b[0;32mreturn\u001b[0m \u001b[0msolns\u001b[0m\u001b[0;34m\u001b[0m\u001b[0;34m\u001b[0m\u001b[0m\n",
      "\u001b[0;31mKeyboardInterrupt\u001b[0m: "
     ]
    }
   ],
   "source": [
    "env_example = gym.make('DynamicSetPacking-adversarial-v0')\n",
    "lin_ag = LinearMatchAgent(env_example.observation_space.shape[0], gamma=0.9999, gpu=False)\n",
    "orig_weight = lin_ag.policy_net[0].weight.detach().numpy().copy()\n",
    "#orig_bias = lin_ag.policy_net[0].bias.detach().numpy().copy()\n",
    "ep_rewards = train_loop(env_example, lin_ag, 3000, 8,10, quiet=True)"
   ]
  },
  {
   "cell_type": "code",
   "execution_count": 73,
   "metadata": {},
   "outputs": [
    {
     "data": {
      "application/vnd.jupyter.widget-view+json": {
       "model_id": "a74e2272ed4746a886b09810af0b5258",
       "version_major": 2,
       "version_minor": 0
      },
      "text/plain": [
       "HBox(children=(IntProgress(value=0, max=3000), HTML(value='')))"
      ]
     },
     "metadata": {},
     "output_type": "display_data"
    },
    {
     "name": "stdout",
     "output_type": "stream",
     "text": [
      "\n"
     ]
    }
   ],
   "source": [
    "global_pol_loss = []\n",
    "env_example = gym.make('DynamicSetPacking-adversarial-v0')\n",
    "lin_ag = LinearMatchAgent(env_example.observation_space.shape[0], gamma=0.9999, gpu=False)\n",
    "lin_ag.policy_net[0].weight.data = torch.Tensor([[1.3261, 1.1460,  -0.8547,  -0.5015,  -0.9008],\n",
    "        [ 1.4077,  0.7449, 0.2461, 1.0496, 0.9913]])\n",
    "orig_weight = lin_ag.policy_net[0].weight.detach().numpy().copy()\n",
    "#orig_bias = lin_ag.policy_net[0].bias.detach().numpy().copy()\n",
    "ep_rewards = train_loop(env_example, lin_ag, 3000, 8,10, quiet=True)"
   ]
  },
  {
   "cell_type": "code",
   "execution_count": 89,
   "metadata": {},
   "outputs": [
    {
     "data": {
      "text/plain": [
       "36.50475"
      ]
     },
     "execution_count": 89,
     "metadata": {},
     "output_type": "execute_result"
    },
    {
     "data": {
      "image/png": "[encoded data removed]",
      "text/plain": [
       "<Figure size 432x288 with 1 Axes>"
      ]
     },
     "metadata": {
      "needs_background": "light"
     },
     "output_type": "display_data"
    }
   ],
   "source": [
    "plt.plot(ep_rewards)\n",
    "np.mean(ep_rewards)"
   ]
  },
  {
   "cell_type": "code",
   "execution_count": 90,
   "metadata": {},
   "outputs": [
    {
     "data": {
      "text/plain": [
       "[<matplotlib.lines.Line2D at 0x1282e7da0>]"
      ]
     },
     "execution_count": 90,
     "metadata": {},
     "output_type": "execute_result"
    },
    {
     "data": {
      "image/png": "[encoded data removed]",
      "text/plain": [
       "<Figure size 432x288 with 1 Axes>"
      ]
     },
     "metadata": {
      "needs_background": "light"
     },
     "output_type": "display_data"
    }
   ],
   "source": [
    "plt.plot(running_mean(ep_rewards, 5))\n",
    "plt.plot(running_mean(ep_rewards, 10))\n",
    "plt.plot(running_mean(ep_rewards, 20))"
   ]
  },
  {
   "cell_type": "code",
   "execution_count": 76,
   "metadata": {},
   "outputs": [
    {
     "data": {
      "text/plain": [
       "[<matplotlib.lines.Line2D at 0x11e1d6588>]"
      ]
     },
     "execution_count": 76,
     "metadata": {},
     "output_type": "execute_result"
    },
    {
     "data": {
      "image/png": "[encoded data removed]",
      "text/plain": [
       "<Figure size 432x288 with 1 Axes>"
      ]
     },
     "metadata": {
      "needs_background": "light"
     },
     "output_type": "display_data"
    }
   ],
   "source": [
    "plt.plot(global_pol_loss)"
   ]
  },
  {
   "cell_type": "code",
   "execution_count": 29,
   "metadata": {},
   "outputs": [
    {
     "data": {
      "text/plain": [
       "114.0"
      ]
     },
     "execution_count": 29,
     "metadata": {},
     "output_type": "execute_result"
    }
   ],
   "source": [
    "np.max(ep_rewards)"
   ]
  },
  {
   "cell_type": "code",
   "execution_count": 30,
   "metadata": {},
   "outputs": [
    {
     "data": {
      "text/plain": [
       "Parameter containing:\n",
       "tensor([[ 1.0433e+00,  8.6321e-01,  4.6712e-02,  3.9991e-01,  6.1131e-04],\n",
       "        [ 1.6905e+00,  1.0277e+00, -6.5531e-01,  1.4819e-01,  8.9889e-02]],\n",
       "       requires_grad=True)"
      ]
     },
     "execution_count": 30,
     "metadata": {},
     "output_type": "execute_result"
    }
   ],
   "source": [
    "lin_ag.policy_net[0].weight"
   ]
  },
  {
   "cell_type": "code",
   "execution_count": 25,
   "metadata": {},
   "outputs": [],
   "source": [
    "lin_ag.policy_net[0].bias"
   ]
  },
  {
   "cell_type": "code",
   "execution_count": null,
   "metadata": {},
   "outputs": [],
   "source": [
    "orig_weight"
   ]
  },
  {
   "cell_type": "code",
   "execution_count": 37,
   "metadata": {},
   "outputs": [
    {
     "data": {
      "text/plain": [
       "tensor([0.5132, 0.4868], grad_fn=<SoftmaxBackward>)"
      ]
     },
     "execution_count": 37,
     "metadata": {},
     "output_type": "execute_result"
    }
   ],
   "source": [
    "lin_ag.policy_net(torch.Tensor([1.0,1.0,1.0,1.0,1.0]))"
   ]
  },
  {
   "cell_type": "code",
   "execution_count": null,
   "metadata": {},
   "outputs": [],
   "source": []
  },
  {
   "cell_type": "code",
   "execution_count": null,
   "metadata": {},
   "outputs": [],
   "source": [
    "plt.plot(running_mean(ep_rewards, 5))\n",
    "plt.plot(running_mean(ep_rewards, 10))\n",
    "plt.plot(running_mean(ep_rewards, 20))"
   ]
  },
  {
   "cell_type": "code",
   "execution_count": null,
   "metadata": {},
   "outputs": [],
   "source": [
    "class FixedMatchAgent(LinearMatchAgent):\n",
    "    def __init__(self, observation_shape, weight, bias, gamma=0.99):\n",
    "        super(FixedMatchAgent, self).__init__(observation_shape, gamma=gamma, gpu=False)\n",
    "        self.policy_net[0].weight.data = weight\n",
    "        self.policy_net[0].bias.data = bias\n",
    "\n",
    "    def learn(self, d):\n",
    "        pass"
   ]
  },
  {
   "cell_type": "code",
   "execution_count": null,
   "metadata": {},
   "outputs": [],
   "source": [
    "\n",
    "env_example = gym.make('DynamicSetPacking-adversarial-v0')\n",
    "smart_ag = FixedMatchAgent(env_example.observation_space.shape[0],\n",
    "                     torch.Tensor([[0.0,0.0,0.0], [0.0,0.0,2.0]]),\n",
    "                     torch.Tensor([-1.0,0.0]),\n",
    "                     gamma=0.9999)\n"
   ]
  },
  {
   "cell_type": "code",
   "execution_count": null,
   "metadata": {},
   "outputs": [],
   "source": [
    "orig_ag = FixedMatchAgent(env_example.observation_space.shape[0],\n",
    "                     torch.Tensor(orig_weight),\n",
    "                     torch.Tensor(orig_bias),\n",
    "                     gamma=0.9999)\n",
    "trained_ag = FixedMatchAgent(env_example.observation_space.shape[0],\n",
    "                     torch.Tensor(lin_ag.policy_net[0].weight.detach().clone()),\n",
    "                     torch.Tensor(lin_ag.policy_net[0].bias.detach().clone()),\n",
    "                     gamma=0.9999)"
   ]
  },
  {
   "cell_type": "code",
   "execution_count": null,
   "metadata": {},
   "outputs": [],
   "source": [
    "trained_ag.policy_net(torch.Tensor([5.0,5.0,0.0]))"
   ]
  },
  {
   "cell_type": "code",
   "execution_count": null,
   "metadata": {},
   "outputs": [],
   "source": [
    "orig_ag.policy_net(torch.Tensor([1.0,1.0,5.0]))"
   ]
  },
  {
   "cell_type": "code",
   "execution_count": null,
   "metadata": {},
   "outputs": [],
   "source": [
    "smart_ag.policy_net(torch.Tensor([1.0,1.0,4.0]))"
   ]
  },
  {
   "cell_type": "code",
   "execution_count": null,
   "metadata": {},
   "outputs": [],
   "source": [
    "smart_ep_rewards = train_loop(env_example, smart_ag, 300, 8, 50, quiet=True)"
   ]
  },
  {
   "cell_type": "code",
   "execution_count": null,
   "metadata": {},
   "outputs": [],
   "source": [
    "orig_ep_rewards = train_loop(env_example, orig_ag, 300, 8, 50, quiet=True)"
   ]
  },
  {
   "cell_type": "code",
   "execution_count": null,
   "metadata": {},
   "outputs": [],
   "source": [
    "trained_ep_rewards = train_loop(env_example, trained_ag, 300, 8, 50, quiet=True)"
   ]
  },
  {
   "cell_type": "code",
   "execution_count": null,
   "metadata": {},
   "outputs": [],
   "source": [
    "greedy = RandomMatchAgent(1.0)\n",
    "greedy_ep_rewards = train_loop(env_example, greedy, 300, 8, 50, quiet=True)"
   ]
  },
  {
   "cell_type": "code",
   "execution_count": null,
   "metadata": {},
   "outputs": [],
   "source": [
    "np.mean(greedy_ep_rewards)"
   ]
  },
  {
   "cell_type": "code",
   "execution_count": null,
   "metadata": {},
   "outputs": [],
   "source": [
    "np.mean(smart_ep_rewards)"
   ]
  },
  {
   "cell_type": "code",
   "execution_count": null,
   "metadata": {},
   "outputs": [],
   "source": [
    "np.mean(orig_ep_rewards)"
   ]
  },
  {
   "cell_type": "code",
   "execution_count": null,
   "metadata": {},
   "outputs": [],
   "source": [
    "np.mean(trained_ep_rewards)"
   ]
  },
  {
   "cell_type": "code",
   "execution_count": null,
   "metadata": {},
   "outputs": [],
   "source": [
    "class LinearMatchAgentOld:\n",
    "    def __init__(self, observation_shape, gamma=0.99, gpu=False):\n",
    "        self.action_space = spaces.Discrete(2)\n",
    "        \n",
    "        self.policy_net = nn.Sequential(\n",
    "            nn.Linear(observation_shape, 2, bias=True),\n",
    "            nn.Softmax())\n",
    "        self.gpu = gpu\n",
    "        if gpu:\n",
    "            self.policy_net.cuda()\n",
    "            self.device = torch.device('cuda:0')\n",
    "        else:\n",
    "            self.device = torch.device('cpu')\n",
    "        self.optimizer = torch.optim.Adam(self.policy_net.parameters(), lr=1e-2)\n",
    "        self.gamma = gamma\n",
    "    \n",
    "    def policy(self, observation_batch):\n",
    "        return torch.distributions.Categorical(probs=self.policy_net(observation_batch))\n",
    "    \n",
    "    def act(self, observation, reward, done):\n",
    "        \"Act on a single observation, return an action.\"\n",
    "        observation_as_batch = torch.tensor(np.expand_dims(observation, 0), dtype=torch.float32, requires_grad=False, device=self.device)\n",
    "        action_sample = self.policy(observation_as_batch).sample().detach().cpu().numpy()\n",
    "        return action_sample[0]\n",
    "    \n",
    "    def learn(self, history_dict):\n",
    "        \"\"\"\n",
    "        Perform the policy gradient update with its optimizer and policy.\n",
    "        \n",
    "        history_dict in general contains batches of episodes; we flatten these out\n",
    "        into one enormous batch (as long as discounting of rewards is done correctly, the policy gradient loss\n",
    "        doesn't care where each example came from).\n",
    "        \"\"\"\n",
    "        \n",
    "        # discounted returns, flattened out\n",
    "        disc_returns = torch.as_tensor(np.concatenate([discounted_episode_returns(r, gamma=self.gamma) for r in history_dict['rewards']]), dtype=torch.float32, device=self.device)\n",
    "        observations_tensor = torch.as_tensor(np.vstack(history_dict['observations']), dtype=torch.float32, device=self.device)\n",
    "        actions_tensor = torch.as_tensor(np.concatenate(history_dict['actions']), dtype=torch.float32, device=self.device)\n",
    "        \n",
    "        self.optimizer.zero_grad()\n",
    "        policy_dists = self.policy(observations_tensor)\n",
    "        loss = pg_target(policy_dists,\n",
    "                             disc_returns,\n",
    "                             actions_tensor)\n",
    "        loss.backward()\n",
    "        self.optimizer.step()"
   ]
  }
 ],
 "metadata": {
  "@webio": {
   "lastCommId": null,
   "lastKernelId": null
  },
  "kernelspec": {
   "display_name": "Python 3",
   "language": "python",
   "name": "python3"
  },
  "language_info": {
   "codemirror_mode": {
    "name": "ipython",
    "version": 3
   },
   "file_extension": ".py",
   "mimetype": "text/x-python",
   "name": "python",
   "nbconvert_exporter": "python",
   "pygments_lexer": "ipython3",
   "version": "3.7.1"
  }
 },
 "nbformat": 4,
 "nbformat_minor": 2
}
