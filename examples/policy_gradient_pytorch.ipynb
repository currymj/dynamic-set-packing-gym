{
 "cells": [
  {
   "cell_type": "code",
   "execution_count": 1,
   "metadata": {},
   "outputs": [],
   "source": [
    "%matplotlib inline\n",
    "import torch\n",
    "from torch import nn\n",
    "import numpy as np\n",
    "import matplotlib.pyplot as plt\n",
    "from tqdm import tqdm_notebook as tqdm"
   ]
  },
  {
   "cell_type": "code",
   "execution_count": 2,
   "metadata": {},
   "outputs": [],
   "source": [
    "import gym\n",
    "from gym import spaces\n",
    "import gym_dynamic_set_packing\n",
    "import time"
   ]
  },
  {
   "cell_type": "markdown",
   "metadata": {},
   "source": [
    "## training loop code"
   ]
  },
  {
   "cell_type": "markdown",
   "metadata": {},
   "source": [
    "below is the code for the training loop. after that are definitions of two simple agents."
   ]
  },
  {
   "cell_type": "code",
   "execution_count": 3,
   "metadata": {},
   "outputs": [],
   "source": [
    "def train_loop(env, agent, episode_count, max_steps, quiet=False):\n",
    "    done = False\n",
    "    ep_rewards = []\n",
    "    for i in tqdm(range(episode_count)):\n",
    "        reward = 0.0\n",
    "        if not quiet:\n",
    "            print('episode {}'.format(i))\n",
    "        ob = env.reset()\n",
    "        total_reward = 0.0\n",
    "        history_dict = {\n",
    "            'actions': [],\n",
    "            'observations': [],\n",
    "            'rewards': []\n",
    "        }\n",
    "        for i in range(max_steps):\n",
    "            history_dict['observations'].append(ob)\n",
    "            action = agent.act(ob, reward, done)\n",
    "            history_dict['actions'].append(action)\n",
    "            ob, reward, done, _ = env.step(action)\n",
    "            history_dict['rewards'].append(reward)\n",
    "            total_reward += reward\n",
    "            if not quiet:\n",
    "                print('action taken: {}, reward: {}, new state: {}'.format(action, reward, env.render()))\n",
    "        agent.learn(history_dict)\n",
    "        history_dict = None\n",
    "        if not quiet:\n",
    "            print('total episode reward: {}'.format(total_reward))\n",
    "        ep_rewards.append(total_reward)\n",
    "    return ep_rewards"
   ]
  },
  {
   "cell_type": "markdown",
   "metadata": {},
   "source": [
    "## agents"
   ]
  },
  {
   "cell_type": "code",
   "execution_count": 4,
   "metadata": {},
   "outputs": [],
   "source": [
    "class RandomMatchAgent:\n",
    "    \"A simple agent for the 0/1 problem that matches with probability match_prob.\"\n",
    "    def __init__(self, match_prob):\n",
    "        self.policy_dist = torch.distributions.Categorical(torch.tensor([match_prob, 1 - match_prob], dtype=torch.float32))\n",
    "        self.action_space = spaces.Discrete(2)\n",
    "\n",
    "    def act(self, observation, reward, done):\n",
    "        action_sample = self.policy_dist.sample()\n",
    "        return action_sample.item()\n",
    "    \n",
    "    def learn(self, history_dict):\n",
    "        pass"
   ]
  },
  {
   "cell_type": "code",
   "execution_count": 5,
   "metadata": {},
   "outputs": [],
   "source": [
    "class GreedyMatchAgent:\n",
    "    \"A simple agent for the 0/1 problem that always matches.\"\n",
    "    def __init__(self):\n",
    "        self.action_space = spaces.Discrete(2)\n",
    "\n",
    "    def act(self, observation, reward, done):\n",
    "        return 1\n",
    "    \n",
    "    def learn(self, history_dict):\n",
    "        pass"
   ]
  },
  {
   "cell_type": "code",
   "execution_count": 6,
   "metadata": {},
   "outputs": [],
   "source": [
    "def discounted_episode_returns(rewards, gamma=0.99):\n",
    "    \"\"\"\n",
    "    Given a sequence of rewards, returns the sequence\n",
    "    of the discounted returns (G_t) at each time step,\n",
    "    with discount rate gamma (default 0.999).\n",
    "    \"\"\"\n",
    "    # thanks to yuhao for writing this code for another project\n",
    "    length = len(rewards)\n",
    "    discounts = [gamma**x for x in range(length)]\n",
    "    result = [np.dot(discounts[:length-i], rewards[i:]) for i in range(length)]\n",
    "    return np.array(result, dtype='float32')"
   ]
  },
  {
   "cell_type": "code",
   "execution_count": 7,
   "metadata": {},
   "outputs": [],
   "source": [
    "def pg_target(policy_dist, rewards, action_trajectory):\n",
    "    \"\"\"\n",
    "    The policy gradient target loss (without baseline). Note it should be negative because\n",
    "    optimizers minimize by default. Rewards should be cumulative and discounted.\n",
    "    All inputs should already be tensors, not lists or np arrays.\n",
    "    \"\"\"\n",
    "    return -torch.sum(policy_dist.log_prob(action_trajectory)*rewards)"
   ]
  },
  {
   "cell_type": "code",
   "execution_count": 8,
   "metadata": {},
   "outputs": [],
   "source": [
    "class MLPMatchAgent:\n",
    "    def __init__(self, observation_shape, gamma=0.99, gpu=False):\n",
    "        self.action_space = spaces.Discrete(2)\n",
    "        \n",
    "        #self.policy_net = nn.Sequential(\n",
    "         #   nn.Linear(observation_shape, 8),\n",
    "         #   nn.ReLU(),\n",
    "         #   nn.Linear(8, 8),\n",
    "         #   nn.ReLU(),\n",
    "         #   nn.Linear(8,2, bias=False)\n",
    "        #)\n",
    "        self.policy_net = nn.Sequential(\n",
    "            nn.Linear(observation_shape, 2, bias=False),\n",
    "            nn.Softmax())\n",
    "        self.gpu = gpu\n",
    "        if gpu:\n",
    "            self.policy_net.cuda()\n",
    "            self.device = torch.device('cuda:0')\n",
    "        else:\n",
    "            self.device = torch.device('cpu')\n",
    "        self.optimizer = torch.optim.Adam(self.policy_net.parameters(), lr=1e-4)\n",
    "        self.matched_count = 0\n",
    "        self.nonmatched_count = 0\n",
    "        self.gamma = gamma\n",
    "    \n",
    "    def policy(self, observation_batch):\n",
    "        return torch.distributions.Categorical(probs=self.policy_net(observation_batch))\n",
    "    def policy_logits(self,observation):\n",
    "        observation_as_batch = torch.tensor(np.expand_dims(observation, 0), dtype=torch.float32, requires_grad=False, device=self.device)\n",
    "        logits = self.policy_net(observation_as_batch).detach().cpu()\n",
    "        return logits\n",
    "    \n",
    "    def act(self, observation, reward, done):\n",
    "        \"Act on a single observation, return an action.\"\n",
    "        observation_as_batch = torch.tensor(np.expand_dims(observation, 0), dtype=torch.float32, requires_grad=False, device=self.device)\n",
    "        action_sample = self.policy(observation_as_batch).sample().detach().cpu().numpy()\n",
    "        if action_sample[0] == 0:\n",
    "            self.nonmatched_count += 1\n",
    "        else:\n",
    "            self.matched_count += 1\n",
    "            \n",
    "        return action_sample[0]\n",
    "    \n",
    "    def matchpercent(self):\n",
    "        return self.matched_count / (self.matched_count + self.nonmatched_count)\n",
    "    def learn(self, history_dict):\n",
    "        \"Perform the policy gradient update with its optimizer and policy.\"\n",
    "        \n",
    "        self.optimizer.zero_grad()\n",
    "        \n",
    "        obs_tensor = torch.tensor(history_dict['observations'], dtype=torch.float32, requires_grad=False, device=self.device)\n",
    "        returns_tensor = torch.tensor(discounted_episode_returns(history_dict['rewards'], gamma=self.gamma), dtype=torch.float32, requires_grad=False, device=self.device)\n",
    "        actions_tensor = torch.tensor(history_dict['actions'], dtype=torch.float32, requires_grad=False, device=self.device)\n",
    "        policy_dists = self.policy(obs_tensor)\n",
    "        loss = pg_target(policy_dists,\n",
    "                             returns_tensor,\n",
    "                             actions_tensor)\n",
    "        loss.backward()\n",
    "        self.optimizer.step()"
   ]
  },
  {
   "cell_type": "markdown",
   "metadata": {},
   "source": [
    "## blood types example (fast, testing)"
   ]
  },
  {
   "cell_type": "code",
   "execution_count": 9,
   "metadata": {},
   "outputs": [
    {
     "data": {
      "application/vnd.jupyter.widget-view+json": {
       "model_id": "3a2dc1f8ea824a39aa2eaf76357dd879",
       "version_major": 2,
       "version_minor": 0
      },
      "text/plain": [
       "HBox(children=(IntProgress(value=0, max=3), HTML(value='')))"
      ]
     },
     "metadata": {},
     "output_type": "display_data"
    },
    {
     "name": "stdout",
     "output_type": "stream",
     "text": [
      "episode 0\n",
      "action taken: 0, reward: 0.0, new state: [0. 1. 0.]\n",
      "Academic license - for non-commercial use only\n",
      "action taken: 1, reward: 0.0, new state: [0. 1. 0.]\n",
      "action taken: 0, reward: 0.0, new state: [0. 1. 0.]\n",
      "action taken: 1, reward: 0.0, new state: [1. 1. 0.]\n",
      "action taken: 0, reward: 0.0, new state: [1. 2. 0.]\n",
      "action taken: 0, reward: 0.0, new state: [2. 2. 0.]\n",
      "action taken: 0, reward: 0.0, new state: [2. 2. 0.]\n",
      "action taken: 0, reward: 0.0, new state: [3. 2. 0.]\n",
      "action taken: 0, reward: 0.0, new state: [4. 3. 0.]\n",
      "action taken: 0, reward: 0.0, new state: [4. 3. 0.]\n",
      "action taken: 0, reward: 0.0, new state: [4. 3. 1.]\n",
      "action taken: 0, reward: 0.0, new state: [5. 3. 0.]\n",
      "action taken: 0, reward: 0.0, new state: [6. 3. 0.]\n",
      "action taken: 0, reward: 0.0, new state: [7. 4. 0.]\n",
      "action taken: 0, reward: 0.0, new state: [8. 4. 0.]\n",
      "action taken: 0, reward: 0.0, new state: [9. 4. 0.]\n",
      "action taken: 0, reward: 0.0, new state: [9. 4. 0.]\n",
      "action taken: 0, reward: 0.0, new state: [9. 4. 0.]\n",
      "action taken: 0, reward: 0.0, new state: [9. 4. 0.]\n",
      "action taken: 0, reward: 0.0, new state: [10.  4.  0.]\n",
      "action taken: 0, reward: 0.0, new state: [10.  4.  0.]\n",
      "action taken: 0, reward: 0.0, new state: [10.  4.  0.]\n",
      "action taken: 0, reward: 0.0, new state: [11.  5.  0.]\n",
      "action taken: 0, reward: 0.0, new state: [12.  5.  0.]\n",
      "action taken: 0, reward: 0.0, new state: [13.  5.  0.]\n",
      "action taken: 0, reward: 0.0, new state: [14.  5.  0.]\n",
      "action taken: 0, reward: 0.0, new state: [15.  6.  0.]\n",
      "action taken: 0, reward: 0.0, new state: [16.  6.  0.]\n",
      "action taken: 0, reward: 0.0, new state: [17.  6.  1.]\n",
      "action taken: 0, reward: 0.0, new state: [18.  6.  0.]\n",
      "action taken: 0, reward: 0.0, new state: [18.  6.  0.]\n",
      "action taken: 0, reward: 0.0, new state: [18.  7.  0.]\n",
      "action taken: 0, reward: 0.0, new state: [18.  7.  0.]\n",
      "action taken: 0, reward: 0.0, new state: [19.  8.  0.]\n",
      "action taken: 0, reward: 0.0, new state: [20.  8.  0.]\n",
      "action taken: 0, reward: 0.0, new state: [21.  8.  1.]\n",
      "action taken: 0, reward: 0.0, new state: [21.  8.  1.]\n",
      "action taken: 0, reward: 0.0, new state: [21.  9.  0.]\n",
      "action taken: 0, reward: 0.0, new state: [22.  9.  0.]\n",
      "action taken: 0, reward: 0.0, new state: [22.  9.  0.]\n",
      "action taken: 0, reward: 0.0, new state: [23.  9.  0.]\n",
      "action taken: 0, reward: 0.0, new state: [24.  9.  0.]\n",
      "action taken: 0, reward: 0.0, new state: [25. 10.  0.]\n",
      "action taken: 0, reward: 0.0, new state: [25. 11.  0.]\n",
      "action taken: 0, reward: 0.0, new state: [26. 11.  0.]\n",
      "action taken: 0, reward: 0.0, new state: [27. 11.  0.]\n",
      "action taken: 0, reward: 0.0, new state: [27. 11.  0.]\n",
      "action taken: 0, reward: 0.0, new state: [27. 11.  0.]\n",
      "action taken: 0, reward: 0.0, new state: [28. 11.  0.]\n",
      "action taken: 0, reward: 0.0, new state: [29. 11.  0.]\n",
      "total episode reward: 0.0\n",
      "episode 1\n",
      "action taken: 1, reward: 0.0, new state: [0. 1. 0.]\n",
      "action taken: 1, reward: 0.0, new state: [1. 2. 0.]\n",
      "action taken: 0, reward: 0.0, new state: [1. 2. 0.]\n",
      "action taken: 0, reward: 0.0, new state: [2. 2. 0.]\n",
      "action taken: 0, reward: 0.0, new state: [2. 2. 0.]\n",
      "action taken: 0, reward: 0.0, new state: [3. 2. 1.]\n",
      "action taken: 0, reward: 0.0, new state: [4. 2. 0.]\n",
      "action taken: 0, reward: 0.0, new state: [5. 2. 0.]\n",
      "action taken: 0, reward: 0.0, new state: [5. 2. 0.]\n",
      "action taken: 0, reward: 0.0, new state: [6. 2. 0.]\n",
      "action taken: 0, reward: 0.0, new state: [7. 2. 0.]\n",
      "action taken: 0, reward: 0.0, new state: [8. 3. 0.]\n",
      "action taken: 0, reward: 0.0, new state: [8. 4. 0.]\n",
      "action taken: 0, reward: 0.0, new state: [9. 5. 0.]\n",
      "action taken: 0, reward: 0.0, new state: [9. 5. 1.]\n",
      "action taken: 0, reward: 0.0, new state: [10.  5.  1.]\n",
      "action taken: 0, reward: 0.0, new state: [10.  5.  0.]\n",
      "action taken: 0, reward: 0.0, new state: [11.  6.  0.]\n",
      "action taken: 0, reward: 0.0, new state: [12.  6.  0.]\n",
      "action taken: 0, reward: 0.0, new state: [12.  6.  0.]\n",
      "action taken: 0, reward: 0.0, new state: [13.  7.  0.]\n",
      "action taken: 0, reward: 0.0, new state: [13.  7.  0.]\n",
      "action taken: 0, reward: 0.0, new state: [14.  7.  1.]\n",
      "action taken: 0, reward: 0.0, new state: [15.  8.  0.]\n",
      "action taken: 0, reward: 0.0, new state: [15.  8.  0.]\n",
      "action taken: 0, reward: 0.0, new state: [15.  8.  0.]\n",
      "action taken: 0, reward: 0.0, new state: [15.  8.  0.]\n",
      "action taken: 0, reward: 0.0, new state: [16.  8.  0.]\n",
      "action taken: 0, reward: 0.0, new state: [17.  8.  0.]\n",
      "action taken: 0, reward: 0.0, new state: [18.  8.  0.]\n",
      "action taken: 0, reward: 0.0, new state: [19.  9.  0.]\n",
      "action taken: 0, reward: 0.0, new state: [20.  9.  1.]\n",
      "action taken: 0, reward: 0.0, new state: [21. 10.  0.]\n",
      "action taken: 0, reward: 0.0, new state: [21. 10.  0.]\n",
      "action taken: 0, reward: 0.0, new state: [22. 11.  0.]\n",
      "action taken: 0, reward: 0.0, new state: [23. 11.  0.]\n",
      "action taken: 0, reward: 0.0, new state: [23. 11.  0.]\n",
      "action taken: 0, reward: 0.0, new state: [23. 11.  0.]\n",
      "action taken: 0, reward: 0.0, new state: [23. 12.  0.]\n",
      "action taken: 0, reward: 0.0, new state: [23. 12.  0.]\n",
      "action taken: 0, reward: 0.0, new state: [24. 13.  1.]\n",
      "action taken: 0, reward: 0.0, new state: [25. 13.  0.]\n",
      "action taken: 0, reward: 0.0, new state: [26. 14.  0.]\n",
      "action taken: 0, reward: 0.0, new state: [27. 14.  0.]\n",
      "action taken: 0, reward: 0.0, new state: [28. 14.  0.]\n",
      "action taken: 0, reward: 0.0, new state: [28. 14.  0.]\n",
      "action taken: 0, reward: 0.0, new state: [29. 14.  0.]\n",
      "action taken: 0, reward: 0.0, new state: [30. 14.  0.]\n",
      "action taken: 0, reward: 0.0, new state: [30. 14.  0.]\n",
      "action taken: 0, reward: 0.0, new state: [30. 14.  0.]\n",
      "total episode reward: 0.0\n",
      "episode 2\n",
      "action taken: 0, reward: 0.0, new state: [1. 1. 0.]\n",
      "action taken: 0, reward: 0.0, new state: [1. 1. 0.]\n",
      "action taken: 0, reward: 0.0, new state: [2. 1. 0.]\n",
      "action taken: 0, reward: 0.0, new state: [3. 1. 0.]\n",
      "action taken: 0, reward: 0.0, new state: [3. 1. 0.]\n",
      "action taken: 0, reward: 0.0, new state: [3. 1. 0.]\n",
      "action taken: 0, reward: 0.0, new state: [4. 1. 0.]\n",
      "action taken: 0, reward: 0.0, new state: [5. 1. 0.]\n",
      "action taken: 0, reward: 0.0, new state: [6. 1. 0.]\n",
      "action taken: 0, reward: 0.0, new state: [7. 2. 0.]\n",
      "action taken: 0, reward: 0.0, new state: [8. 3. 0.]\n",
      "action taken: 0, reward: 0.0, new state: [9. 3. 0.]\n",
      "action taken: 0, reward: 0.0, new state: [10.  3.  0.]\n",
      "action taken: 0, reward: 0.0, new state: [10.  4.  0.]\n",
      "action taken: 0, reward: 0.0, new state: [10.  4.  0.]\n",
      "action taken: 0, reward: 0.0, new state: [10.  5.  0.]\n",
      "action taken: 0, reward: 0.0, new state: [11.  6.  0.]\n",
      "action taken: 0, reward: 0.0, new state: [11.  7.  0.]\n",
      "action taken: 0, reward: 0.0, new state: [12.  7.  1.]\n",
      "action taken: 0, reward: 0.0, new state: [13.  7.  0.]\n",
      "action taken: 0, reward: 0.0, new state: [13.  7.  0.]\n",
      "action taken: 0, reward: 0.0, new state: [13.  7.  0.]\n",
      "action taken: 0, reward: 0.0, new state: [14.  7.  0.]\n",
      "action taken: 0, reward: 0.0, new state: [14.  7.  1.]\n",
      "action taken: 0, reward: 0.0, new state: [14.  7.  0.]\n",
      "action taken: 0, reward: 0.0, new state: [14.  7.  0.]\n",
      "action taken: 0, reward: 0.0, new state: [14.  8.  0.]\n",
      "action taken: 0, reward: 0.0, new state: [14.  8.  0.]\n",
      "action taken: 0, reward: 0.0, new state: [14.  9.  0.]\n",
      "action taken: 0, reward: 0.0, new state: [15. 10.  0.]\n",
      "action taken: 0, reward: 0.0, new state: [15. 11.  0.]\n",
      "action taken: 0, reward: 0.0, new state: [16. 11.  0.]\n",
      "action taken: 0, reward: 0.0, new state: [16. 11.  0.]\n",
      "action taken: 0, reward: 0.0, new state: [17. 12.  0.]\n",
      "action taken: 0, reward: 0.0, new state: [18. 12.  0.]\n",
      "action taken: 0, reward: 0.0, new state: [18. 13.  0.]\n",
      "action taken: 0, reward: 0.0, new state: [18. 13.  0.]\n",
      "action taken: 0, reward: 0.0, new state: [18. 13.  0.]\n",
      "action taken: 0, reward: 0.0, new state: [18. 14.  0.]\n",
      "action taken: 0, reward: 0.0, new state: [19. 14.  0.]\n",
      "action taken: 0, reward: 0.0, new state: [19. 14.  0.]\n",
      "action taken: 0, reward: 0.0, new state: [19. 15.  0.]\n",
      "action taken: 0, reward: 0.0, new state: [20. 15.  0.]\n",
      "action taken: 0, reward: 0.0, new state: [20. 15.  0.]\n",
      "action taken: 0, reward: 0.0, new state: [21. 16.  0.]\n",
      "action taken: 0, reward: 0.0, new state: [22. 16.  0.]\n",
      "action taken: 0, reward: 0.0, new state: [22. 16.  1.]\n",
      "action taken: 0, reward: 0.0, new state: [23. 17.  0.]\n",
      "action taken: 0, reward: 0.0, new state: [23. 17.  0.]\n",
      "action taken: 0, reward: 0.0, new state: [23. 18.  0.]\n",
      "total episode reward: 0.0\n",
      "\n"
     ]
    },
    {
     "name": "stderr",
     "output_type": "stream",
     "text": [
      "/home/curry/anaconda3/envs/tf/lib/python3.6/site-packages/torch/nn/modules/container.py:92: UserWarning: Implicit dimension choice for softmax has been deprecated. Change the call to include dim=X as an argument.\n",
      "  input = module(input)\n"
     ]
    }
   ],
   "source": [
    "env_example = gym.make('DynamicSetPacking-adversarial-v0')\n",
    "ag = MLPMatchAgent(env_example.observation_space.shape[0], gamma=0.999)\n",
    "ep_rewards = train_loop(env_example, ag, 3, 50, quiet=False)"
   ]
  },
  {
   "cell_type": "markdown",
   "metadata": {},
   "source": [
    "## blood types example (long)"
   ]
  },
  {
   "cell_type": "code",
   "execution_count": 9,
   "metadata": {},
   "outputs": [
    {
     "data": {
      "application/vnd.jupyter.widget-view+json": {
       "model_id": "fa2620c150454b679e3e14c33f6fc4d8",
       "version_major": 2,
       "version_minor": 0
      },
      "text/plain": [
       "HBox(children=(IntProgress(value=0, max=100000), HTML(value='')))"
      ]
     },
     "metadata": {},
     "output_type": "display_data"
    },
    {
     "name": "stdout",
     "output_type": "stream",
     "text": [
      "Academic license - for non-commercial use only\n"
     ]
    },
    {
     "name": "stderr",
     "output_type": "stream",
     "text": [
      "/home/curry/anaconda3/envs/tf/lib/python3.6/site-packages/torch/nn/modules/container.py:92: UserWarning: Implicit dimension choice for softmax has been deprecated. Change the call to include dim=X as an argument.\n",
      "  input = module(input)\n"
     ]
    },
    {
     "name": "stdout",
     "output_type": "stream",
     "text": [
      "\n"
     ]
    }
   ],
   "source": [
    "env_example = gym.make('DynamicSetPacking-adversarial-v0')\n",
    "mlp_ag = MLPMatchAgent(env_example.observation_space.shape[0], gamma=0.9999, gpu=True)\n",
    "ep_rewards = train_loop(env_example, mlp_ag, 100000, 20, quiet=True)"
   ]
  },
  {
   "cell_type": "code",
   "execution_count": 10,
   "metadata": {},
   "outputs": [
    {
     "data": {
      "text/plain": [
       "[<matplotlib.lines.Line2D at 0x7f16d83150b8>]"
      ]
     },
     "execution_count": 10,
     "metadata": {},
     "output_type": "execute_result"
    },
    {
     "data": {
      "image/png": "[encoded data removed]",
      "text/plain": [
       "<Figure size 432x288 with 1 Axes>"
      ]
     },
     "metadata": {
      "needs_background": "light"
     },
     "output_type": "display_data"
    }
   ],
   "source": [
    "plt.plot(ep_rewards)"
   ]
  },
  {
   "cell_type": "code",
   "execution_count": 13,
   "metadata": {},
   "outputs": [
    {
     "data": {
      "text/plain": [
       "Parameter containing:\n",
       "tensor([[-0.0302,  0.2833, -0.6261],\n",
       "        [-0.0101, -0.1798, -0.5091]], device='cuda:0', requires_grad=True)"
      ]
     },
     "execution_count": 13,
     "metadata": {},
     "output_type": "execute_result"
    }
   ],
   "source": [
    "mlp_ag.policy_net[0].weight"
   ]
  },
  {
   "cell_type": "code",
   "execution_count": 132,
   "metadata": {},
   "outputs": [
    {
     "data": {
      "text/plain": [
       "0"
      ]
     },
     "execution_count": 132,
     "metadata": {},
     "output_type": "execute_result"
    }
   ],
   "source": [
    "mlp_ag.act([1,1,1], 0.0, False)"
   ]
  },
  {
   "cell_type": "code",
   "execution_count": 181,
   "metadata": {},
   "outputs": [
    {
     "data": {
      "text/plain": [
       "10.316"
      ]
     },
     "execution_count": 181,
     "metadata": {},
     "output_type": "execute_result"
    }
   ],
   "source": [
    "np.mean(ep_rewards[9000:10000])"
   ]
  },
  {
   "cell_type": "code",
   "execution_count": 148,
   "metadata": {},
   "outputs": [],
   "source": [
    "def running_mean(x, N):\n",
    "    cumsum = np.cumsum(np.insert(x, 0, 0)) \n",
    "    return (cumsum[N:] - cumsum[:-N]) / float(N)"
   ]
  },
  {
   "cell_type": "code",
   "execution_count": 155,
   "metadata": {},
   "outputs": [],
   "source": []
  },
  {
   "cell_type": "code",
   "execution_count": 165,
   "metadata": {},
   "outputs": [
    {
     "data": {
      "text/plain": [
       "[<matplotlib.lines.Line2D at 0x7fdfe021d320>]"
      ]
     },
     "execution_count": 165,
     "metadata": {},
     "output_type": "execute_result"
    },
    {
     "data": {
      "image/png": "[encoded data removed]",
      "text/plain": [
       "<Figure size 432x288 with 1 Axes>"
      ]
     },
     "metadata": {
      "needs_background": "light"
     },
     "output_type": "display_data"
    }
   ],
   "source": [
    "plt.plot(running_mean(ep_rewards, 2500))\n",
    "plt.plot(running_mean(ep_rewards, 5000))\n",
    "plt.plot(running_mean(ep_rewards, 10000))"
   ]
  },
  {
   "cell_type": "code",
   "execution_count": 161,
   "metadata": {},
   "outputs": [
    {
     "data": {
      "text/plain": [
       "[<matplotlib.lines.Line2D at 0x7fdfe00c97b8>]"
      ]
     },
     "execution_count": 161,
     "metadata": {},
     "output_type": "execute_result"
    },
    {
     "data": {
      "image/png": "[encoded data removed]",
      "text/plain": [
       "<Figure size 432x288 with 1 Axes>"
      ]
     },
     "metadata": {
      "needs_background": "light"
     },
     "output_type": "display_data"
    }
   ],
   "source": [
    "plt.plot(running_mean(ep_rewards_old, 2500))\n",
    "plt.plot(running_mean(ep_rewards_old, 5000))\n",
    "plt.plot(running_mean(ep_rewards_old, 10000))"
   ]
  },
  {
   "cell_type": "code",
   "execution_count": null,
   "metadata": {},
   "outputs": [],
   "source": [
    "env_example = gym.make('DynamicSetPacking-adversarial-v0')\n",
    "ag = GreedyMatchAgent()\n",
    "greedy_ep_rewards = train_loop(env_example, ag, 5000, 50, quiet=True)"
   ]
  },
  {
   "cell_type": "code",
   "execution_count": null,
   "metadata": {},
   "outputs": [],
   "source": [
    "plt.plot(greedy_ep_rewards)"
   ]
  },
  {
   "cell_type": "code",
   "execution_count": null,
   "metadata": {},
   "outputs": [],
   "source": [
    "np.mean(greedy_ep_rewards)"
   ]
  },
  {
   "cell_type": "markdown",
   "metadata": {},
   "source": [
    "compare to random agent"
   ]
  },
  {
   "cell_type": "code",
   "execution_count": null,
   "metadata": {},
   "outputs": [],
   "source": [
    "env_example = gym.make('DynamicSetPacking-gurobitest-v0')\n",
    "ag = RandomMatchAgent(0.5)\n",
    "random_ep_rewards = train_loop(env_example, ag, 1000, 100, quiet=True)"
   ]
  },
  {
   "cell_type": "code",
   "execution_count": null,
   "metadata": {},
   "outputs": [],
   "source": [
    "plt.plot(random_ep_rewards)"
   ]
  },
  {
   "cell_type": "code",
   "execution_count": null,
   "metadata": {},
   "outputs": [],
   "source": [
    "plt.plot(ep_rewards, label='reinforce')\n",
    "plt.plot(greedy_ep_rewards, label='greedy')\n",
    "plt.title('returns per 50-step episode')\n",
    "plt.legend()\n",
    "plt.savefig('returns_plot.png')\n",
    "plt.show()\n"
   ]
  },
  {
   "cell_type": "code",
   "execution_count": 168,
   "metadata": {},
   "outputs": [],
   "source": [
    "class SmartMatchAgent:\n",
    "    \"A simple agent for this weird adversarial system that always matches if the last type is available.\"\n",
    "    def __init__(self):\n",
    "        self.action_space = spaces.Discrete(2)\n",
    "        self.policy_net = nn.Sequential(\n",
    "            nn.Linear(3, 2, bias=False),\n",
    "            nn.Softmax())\n",
    "        self.policy_net[0].weight.data = torch.Tensor([[1.0,1.0,-2.0],\n",
    "                                                       [-1.0,-1.0,20.0]])\n",
    "\n",
    "        self.device=torch.device('cpu')\n",
    "    def policy(self, observation_batch):\n",
    "        return torch.distributions.Categorical(probs=self.policy_net(observation_batch))\n",
    "\n",
    "#    def act(self, observation, reward, done):\n",
    " #       if observation[2] > 0:\n",
    "  #          return 1\n",
    "   #     else:\n",
    "    #        return 0\n",
    "        \n",
    "    def act(self, observation, reward, done):\n",
    "        \"Act on a single observation, return an action.\"\n",
    "        observation_as_batch = torch.tensor(np.expand_dims(observation, 0), dtype=torch.float32, requires_grad=False, device=self.device)\n",
    "        action_sample = self.policy(observation_as_batch).sample().detach().cpu().numpy()\n",
    "            \n",
    "        return action_sample[0]\n",
    "\n",
    "    def learn(self, d):\n",
    "        pass\n"
   ]
  },
  {
   "cell_type": "code",
   "execution_count": 169,
   "metadata": {},
   "outputs": [
    {
     "data": {
      "application/vnd.jupyter.widget-view+json": {
       "model_id": "b70238f1103e42daa87a41c4594e4b6e",
       "version_major": 2,
       "version_minor": 0
      },
      "text/plain": [
       "HBox(children=(IntProgress(value=0, max=10000), HTML(value='')))"
      ]
     },
     "metadata": {},
     "output_type": "display_data"
    },
    {
     "name": "stdout",
     "output_type": "stream",
     "text": [
      "\n"
     ]
    }
   ],
   "source": [
    "\n",
    "env_example = gym.make('DynamicSetPacking-adversarial-v0')\n",
    "ag = SmartMatchAgent()\n",
    "smart_ep_rewards = train_loop(env_example, ag, 10000,20, quiet=True)"
   ]
  },
  {
   "cell_type": "code",
   "execution_count": 182,
   "metadata": {},
   "outputs": [
    {
     "data": {
      "text/plain": [
       "[<matplotlib.lines.Line2D at 0x7fdfe0340ba8>]"
      ]
     },
     "execution_count": 182,
     "metadata": {},
     "output_type": "execute_result"
    },
    {
     "data": {
      "image/png": "[encoded data removed]",
      "text/plain": [
       "<Figure size 432x288 with 1 Axes>"
      ]
     },
     "metadata": {
      "needs_background": "light"
     },
     "output_type": "display_data"
    }
   ],
   "source": [
    "plt.plot(smart_ep_rewards)"
   ]
  },
  {
   "cell_type": "code",
   "execution_count": 183,
   "metadata": {},
   "outputs": [
    {
     "data": {
      "text/plain": [
       "52.2056"
      ]
     },
     "execution_count": 183,
     "metadata": {},
     "output_type": "execute_result"
    }
   ],
   "source": [
    "np.mean(smart_ep_rewards)"
   ]
  },
  {
   "cell_type": "code",
   "execution_count": null,
   "metadata": {},
   "outputs": [],
   "source": []
  }
 ],
 "metadata": {
  "@webio": {
   "lastCommId": "62d5dccb0e13474cbc1c9fc2a83a368c",
   "lastKernelId": "16cdb1fb-4e1a-4377-9388-f1a8d4bd9b75"
  },
  "kernelspec": {
   "display_name": "Python 3",
   "language": "python",
   "name": "python3"
  },
  "language_info": {
   "codemirror_mode": {
    "name": "ipython",
    "version": 3
   },
   "file_extension": ".py",
   "mimetype": "text/x-python",
   "name": "python",
   "nbconvert_exporter": "python",
   "pygments_lexer": "ipython3",
   "version": "3.6.7"
  }
 },
 "nbformat": 4,
 "nbformat_minor": 2
}
