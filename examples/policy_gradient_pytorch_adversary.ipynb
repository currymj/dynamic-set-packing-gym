{
 "cells": [
  {
   "cell_type": "code",
   "execution_count": 1,
   "metadata": {},
   "outputs": [],
   "source": [
    "%matplotlib inline\n",
    "import torch\n",
    "from torch import nn\n",
    "import numpy as np\n",
    "import matplotlib.pyplot as plt\n",
    "from tqdm import tqdm_notebook as tqdm"
   ]
  },
  {
   "cell_type": "code",
   "execution_count": 2,
   "metadata": {},
   "outputs": [],
   "source": [
    "import gym\n",
    "from gym import spaces\n",
    "import gym_dynamic_set_packing\n",
    "import time"
   ]
  },
  {
   "cell_type": "markdown",
   "metadata": {},
   "source": [
    "## training loop code"
   ]
  },
  {
   "cell_type": "markdown",
   "metadata": {},
   "source": [
    "below is the code for the training loop. after that are definitions of two simple agents."
   ]
  },
  {
   "cell_type": "code",
   "execution_count": 3,
   "metadata": {},
   "outputs": [],
   "source": [
    "def train_loop(env, agent, episode_count, batches_per_episode, max_steps, quiet=False):\n",
    "    done = False\n",
    "    ep_rewards = []\n",
    "    for i in tqdm(range(episode_count)):\n",
    "        reward = 0.0\n",
    "        if not quiet:\n",
    "            print('episode {}'.format(i))\n",
    "        ob = env.reset()\n",
    "        total_reward = 0.0\n",
    "        history_dict = {\n",
    "            'actions': [],\n",
    "            'observations': [],\n",
    "            'rewards': []\n",
    "        }\n",
    "        for batch_idx in range(batches_per_episode):\n",
    "            curr_obs = []\n",
    "            curr_act = []\n",
    "            curr_reward = []\n",
    "            for i in range(max_steps):\n",
    "                curr_obs.append(ob)\n",
    "                action = agent.act(ob, reward, done)\n",
    "                curr_act.append(action)\n",
    "                ob, reward, done, _ = env.step(action)\n",
    "                curr_reward.append(reward)\n",
    "                if not quiet:\n",
    "                    print('action taken: {}, reward: {}, new state: {}'.format(action, reward, env.render()))\n",
    "            history_dict['observations'].append(np.stack(curr_obs,axis=0))\n",
    "            history_dict['actions'].append(curr_act)\n",
    "            history_dict['rewards'].append(curr_reward)\n",
    "        total_reward = np.sum(history_dict['rewards']) / batches_per_episode\n",
    "        agent.learn(history_dict)\n",
    "        history_dict = None\n",
    "        if not quiet:\n",
    "            print('total episode reward: {}'.format(total_reward))\n",
    "        ep_rewards.append(total_reward)\n",
    "    return ep_rewards"
   ]
  },
  {
   "cell_type": "markdown",
   "metadata": {},
   "source": [
    "## agents"
   ]
  },
  {
   "cell_type": "code",
   "execution_count": 4,
   "metadata": {},
   "outputs": [],
   "source": [
    "class RandomMatchAgent:\n",
    "    \"A simple agent for the 0/1 problem that always matches.\"\n",
    "    def __init__(self, match_prob):\n",
    "        self.policy_dist = torch.distributions.Categorical(torch.tensor([match_prob, 1 - match_prob], dtype=torch.float32))\n",
    "        self.action_space = spaces.Discrete(2)\n",
    "\n",
    "    def act(self, observation, reward, done):\n",
    "        action_sample = self.policy_dist.sample()\n",
    "        return action_sample.item()\n",
    "    \n",
    "    def learn(self, history_dict):\n",
    "        pass"
   ]
  },
  {
   "cell_type": "code",
   "execution_count": 5,
   "metadata": {},
   "outputs": [],
   "source": [
    "def discounted_episode_returns(rewards, gamma=0.99):\n",
    "    \"\"\"\n",
    "    Given a sequence of rewards, returns the sequence\n",
    "    of the discounted returns (G_t) at each time step,\n",
    "    with discount rate gamma (default 0.999).\n",
    "    \"\"\"\n",
    "    # thanks to yuhao for writing this code for another project\n",
    "    length = len(rewards)\n",
    "    discounts = [gamma**x for x in range(length)]\n",
    "    result = [np.dot(discounts[:length-i], rewards[i:]) for i in range(length)]\n",
    "    return np.array(result, dtype='float32')"
   ]
  },
  {
   "cell_type": "code",
   "execution_count": 6,
   "metadata": {},
   "outputs": [],
   "source": [
    "def pg_target(policy_dist, rewards, action_trajectory):\n",
    "    \"\"\"\n",
    "    The policy gradient target loss (without baseline). Note it should be negative because\n",
    "    optimizers minimize by default. Rewards should be cumulative and discounted.\n",
    "    All inputs should already be tensors, not lists or np arrays.\n",
    "    \"\"\"\n",
    "    return -torch.mean(policy_dist.log_prob(action_trajectory)*rewards)"
   ]
  },
  {
   "cell_type": "code",
   "execution_count": 7,
   "metadata": {},
   "outputs": [],
   "source": [
    "class LinearMatchAgent:\n",
    "    def __init__(self, observation_shape, gamma=0.99, gpu=False):\n",
    "        self.action_space = spaces.Discrete(2)\n",
    "        \n",
    "        self.policy_net = nn.Sequential(\n",
    "            nn.Linear(observation_shape, 2, bias=False),\n",
    "            nn.Softmax())\n",
    "        self.gpu = gpu\n",
    "        if gpu:\n",
    "            self.policy_net.cuda()\n",
    "            self.device = torch.device('cuda:0')\n",
    "        else:\n",
    "            self.device = torch.device('cpu')\n",
    "        self.optimizer = torch.optim.Adam(self.policy_net.parameters())\n",
    "        self.gamma = gamma\n",
    "    \n",
    "    def policy(self, observation_batch):\n",
    "        return torch.distributions.Categorical(logits=self.policy_net(observation_batch))\n",
    "    \n",
    "    def act(self, observation, reward, done):\n",
    "        \"Act on a single observation, return an action.\"\n",
    "        observation_as_batch = torch.tensor(np.expand_dims(observation, 0), dtype=torch.float32, requires_grad=False, device=self.device)\n",
    "        action_sample = self.policy(observation_as_batch).sample().detach().cpu().numpy()\n",
    "        return action_sample[0]\n",
    "    \n",
    "    def learn(self, history_dict):\n",
    "        \"\"\"\n",
    "        Perform the policy gradient update with its optimizer and policy.\n",
    "        \n",
    "        history_dict in general contains batches of episodes; we flatten these out\n",
    "        into one enormous batch (as long as discounting of rewards is done correctly, the policy gradient loss\n",
    "        doesn't care where each example came from).\n",
    "        \"\"\"\n",
    "        \n",
    "        # discounted returns, flattened out\n",
    "        disc_returns = torch.as_tensor(np.concatenate([discounted_episode_returns(r, gamma=self.gamma) for r in history_dict['rewards']]), dtype=torch.float32, device=self.device)\n",
    "        observations_tensor = torch.as_tensor(np.vstack(history_dict['observations']), dtype=torch.float32, device=self.device)\n",
    "        actions_tensor = torch.as_tensor(np.concatenate(history_dict['actions']), dtype=torch.float32, device=self.device)\n",
    "        \n",
    "        self.optimizer.zero_grad()\n",
    "        policy_dists = self.policy(observations_tensor)\n",
    "        loss = pg_target(policy_dists,\n",
    "                             disc_returns,\n",
    "                             actions_tensor)\n",
    "        loss.backward()\n",
    "        self.optimizer.step()"
   ]
  },
  {
   "cell_type": "markdown",
   "metadata": {},
   "source": [
    "## adversary example (fast, testing)"
   ]
  },
  {
   "cell_type": "code",
   "execution_count": 8,
   "metadata": {},
   "outputs": [
    {
     "name": "stdout",
     "output_type": "stream",
     "text": [
      "Academic license - for non-commercial use only\n"
     ]
    },
    {
     "data": {
      "application/vnd.jupyter.widget-view+json": {
       "model_id": "bbe737ff64fe4450b0088328a39b198c",
       "version_major": 2,
       "version_minor": 0
      },
      "text/plain": [
       "HBox(children=(IntProgress(value=0, max=3), HTML(value='')))"
      ]
     },
     "metadata": {},
     "output_type": "display_data"
    },
    {
     "name": "stdout",
     "output_type": "stream",
     "text": [
      "episode 0\n",
      "action taken: 0, reward: 0.0, new state: [0. 1. 0.]\n",
      "action taken: 1, reward: 0.0, new state: [0. 1. 0.]\n",
      "action taken: 0, reward: 0.0, new state: [0. 1. 0.]\n",
      "action taken: 0, reward: 0.0, new state: [1. 1. 0.]\n",
      "action taken: 1, reward: 2.0, new state: [0. 1. 0.]\n",
      "action taken: 0, reward: 0.0, new state: [1. 1. 0.]\n",
      "action taken: 0, reward: 0.0, new state: [1. 1. 0.]\n",
      "action taken: 1, reward: 2.0, new state: [1. 0. 0.]\n",
      "action taken: 1, reward: 0.0, new state: [2. 1. 0.]\n",
      "action taken: 0, reward: 0.0, new state: [2. 1. 0.]\n",
      "action taken: 1, reward: 2.0, new state: [1. 0. 1.]\n",
      "action taken: 0, reward: 0.0, new state: [2. 0. 0.]\n",
      "action taken: 1, reward: 0.0, new state: [3. 0. 0.]\n",
      "action taken: 1, reward: 0.0, new state: [4. 1. 0.]\n",
      "action taken: 0, reward: 0.0, new state: [5. 1. 0.]\n",
      "action taken: 0, reward: 0.0, new state: [6. 1. 0.]\n",
      "action taken: 1, reward: 2.0, new state: [5. 0. 0.]\n",
      "action taken: 0, reward: 0.0, new state: [5. 0. 0.]\n",
      "action taken: 1, reward: 0.0, new state: [5. 0. 0.]\n",
      "action taken: 1, reward: 0.0, new state: [6. 0. 0.]\n",
      "action taken: 1, reward: 0.0, new state: [6. 0. 0.]\n",
      "action taken: 0, reward: 0.0, new state: [6. 0. 0.]\n",
      "action taken: 0, reward: 0.0, new state: [7. 1. 0.]\n",
      "action taken: 1, reward: 2.0, new state: [7. 0. 0.]\n",
      "action taken: 0, reward: 0.0, new state: [8. 0. 0.]\n",
      "action taken: 0, reward: 0.0, new state: [9. 0. 0.]\n",
      "action taken: 1, reward: 0.0, new state: [10.  1.  0.]\n",
      "action taken: 1, reward: 2.0, new state: [10.  0.  0.]\n",
      "action taken: 0, reward: 0.0, new state: [11.  0.  1.]\n",
      "action taken: 0, reward: 0.0, new state: [12.  0.  0.]\n",
      "action taken: 1, reward: 0.0, new state: [12.  0.  0.]\n",
      "action taken: 0, reward: 0.0, new state: [12.  1.  0.]\n",
      "action taken: 1, reward: 2.0, new state: [11.  0.  0.]\n",
      "action taken: 0, reward: 0.0, new state: [12.  1.  0.]\n",
      "action taken: 1, reward: 2.0, new state: [12.  0.  0.]\n",
      "action taken: 1, reward: 0.0, new state: [13.  0.  1.]\n",
      "action taken: 0, reward: 0.0, new state: [13.  0.  1.]\n",
      "action taken: 1, reward: 0.0, new state: [13.  1.  0.]\n",
      "action taken: 1, reward: 2.0, new state: [13.  0.  0.]\n",
      "action taken: 1, reward: 0.0, new state: [13.  0.  0.]\n",
      "action taken: 0, reward: 0.0, new state: [14.  0.  0.]\n",
      "action taken: 0, reward: 0.0, new state: [15.  0.  0.]\n",
      "action taken: 1, reward: 0.0, new state: [16.  1.  0.]\n",
      "action taken: 1, reward: 2.0, new state: [15.  1.  0.]\n",
      "action taken: 1, reward: 2.0, new state: [15.  0.  0.]\n",
      "action taken: 1, reward: 0.0, new state: [16.  0.  0.]\n",
      "action taken: 1, reward: 0.0, new state: [16.  0.  0.]\n",
      "action taken: 0, reward: 0.0, new state: [16.  0.  0.]\n",
      "action taken: 0, reward: 0.0, new state: [17.  0.  0.]\n",
      "action taken: 1, reward: 0.0, new state: [18.  0.  0.]\n",
      "total episode reward: 22.0\n",
      "episode 1\n",
      "action taken: 1, reward: 0.0, new state: [0. 1. 0.]\n",
      "action taken: 1, reward: 0.0, new state: [1. 2. 0.]\n",
      "action taken: 0, reward: 0.0, new state: [1. 2. 0.]\n",
      "action taken: 1, reward: 2.0, new state: [1. 1. 0.]\n",
      "action taken: 1, reward: 2.0, new state: [0. 0. 0.]\n",
      "action taken: 1, reward: 0.0, new state: [1. 0. 1.]\n",
      "action taken: 1, reward: 0.0, new state: [2. 0. 0.]\n",
      "action taken: 1, reward: 0.0, new state: [3. 0. 0.]\n",
      "action taken: 1, reward: 0.0, new state: [3. 0. 0.]\n",
      "action taken: 1, reward: 0.0, new state: [4. 0. 0.]\n",
      "action taken: 0, reward: 0.0, new state: [5. 0. 0.]\n",
      "action taken: 0, reward: 0.0, new state: [6. 1. 0.]\n",
      "action taken: 0, reward: 0.0, new state: [6. 2. 0.]\n",
      "action taken: 0, reward: 0.0, new state: [7. 3. 0.]\n",
      "action taken: 1, reward: 6.0, new state: [4. 0. 1.]\n",
      "action taken: 1, reward: 0.0, new state: [5. 0. 1.]\n",
      "action taken: 0, reward: 0.0, new state: [5. 0. 0.]\n",
      "action taken: 0, reward: 0.0, new state: [6. 1. 0.]\n",
      "action taken: 0, reward: 0.0, new state: [7. 1. 0.]\n",
      "action taken: 1, reward: 2.0, new state: [6. 0. 0.]\n",
      "action taken: 1, reward: 0.0, new state: [7. 1. 0.]\n",
      "action taken: 1, reward: 2.0, new state: [6. 0. 0.]\n",
      "action taken: 0, reward: 0.0, new state: [7. 0. 1.]\n",
      "action taken: 0, reward: 0.0, new state: [8. 1. 0.]\n",
      "action taken: 0, reward: 0.0, new state: [8. 1. 0.]\n",
      "action taken: 1, reward: 2.0, new state: [7. 0. 0.]\n",
      "action taken: 1, reward: 0.0, new state: [7. 0. 0.]\n",
      "action taken: 0, reward: 0.0, new state: [8. 0. 0.]\n",
      "action taken: 0, reward: 0.0, new state: [9. 0. 0.]\n",
      "action taken: 0, reward: 0.0, new state: [10.  0.  0.]\n",
      "action taken: 0, reward: 0.0, new state: [11.  1.  0.]\n",
      "action taken: 1, reward: 2.0, new state: [11.  0.  1.]\n",
      "action taken: 1, reward: 0.0, new state: [12.  1.  0.]\n",
      "action taken: 1, reward: 2.0, new state: [11.  0.  0.]\n",
      "action taken: 1, reward: 0.0, new state: [12.  1.  0.]\n",
      "action taken: 0, reward: 0.0, new state: [13.  1.  0.]\n",
      "action taken: 1, reward: 2.0, new state: [12.  0.  0.]\n",
      "action taken: 1, reward: 0.0, new state: [12.  0.  0.]\n",
      "action taken: 1, reward: 0.0, new state: [12.  1.  0.]\n",
      "action taken: 1, reward: 2.0, new state: [11.  0.  0.]\n",
      "action taken: 1, reward: 0.0, new state: [12.  1.  1.]\n",
      "action taken: 1, reward: 52.0, new state: [12.  0.  0.]\n",
      "action taken: 0, reward: 0.0, new state: [13.  0.  0.]\n",
      "action taken: 1, reward: 0.0, new state: [14.  1.  0.]\n",
      "action taken: 1, reward: 2.0, new state: [14.  0.  0.]\n",
      "action taken: 1, reward: 0.0, new state: [14.  0.  0.]\n",
      "action taken: 1, reward: 0.0, new state: [14.  1.  0.]\n",
      "action taken: 1, reward: 2.0, new state: [14.  1.  0.]\n",
      "action taken: 1, reward: 2.0, new state: [14.  0.  0.]\n",
      "action taken: 1, reward: 0.0, new state: [14.  0.  0.]\n",
      "total episode reward: 82.0\n",
      "episode 2\n",
      "action taken: 0, reward: 0.0, new state: [0. 1. 1.]\n",
      "action taken: 0, reward: 0.0, new state: [0. 1. 0.]\n",
      "action taken: 1, reward: 0.0, new state: [1. 1. 0.]\n",
      "action taken: 1, reward: 2.0, new state: [1. 0. 0.]\n",
      "action taken: 1, reward: 0.0, new state: [1. 0. 0.]\n",
      "action taken: 0, reward: 0.0, new state: [1. 0. 0.]\n",
      "action taken: 0, reward: 0.0, new state: [2. 0. 0.]\n",
      "action taken: 1, reward: 0.0, new state: [3. 0. 0.]\n",
      "action taken: 0, reward: 0.0, new state: [4. 0. 0.]\n",
      "action taken: 0, reward: 0.0, new state: [5. 1. 0.]\n",
      "action taken: 1, reward: 2.0, new state: [5. 1. 0.]\n",
      "action taken: 1, reward: 2.0, new state: [5. 0. 0.]\n",
      "action taken: 0, reward: 0.0, new state: [6. 0. 0.]\n",
      "action taken: 0, reward: 0.0, new state: [6. 1. 0.]\n",
      "action taken: 0, reward: 0.0, new state: [6. 1. 0.]\n",
      "action taken: 1, reward: 2.0, new state: [5. 1. 0.]\n",
      "action taken: 1, reward: 2.0, new state: [5. 1. 0.]\n",
      "action taken: 1, reward: 2.0, new state: [4. 1. 0.]\n",
      "action taken: 0, reward: 0.0, new state: [5. 1. 1.]\n",
      "action taken: 0, reward: 0.0, new state: [6. 1. 0.]\n",
      "action taken: 0, reward: 0.0, new state: [6. 1. 0.]\n",
      "action taken: 1, reward: 2.0, new state: [5. 0. 0.]\n",
      "action taken: 0, reward: 0.0, new state: [6. 0. 0.]\n",
      "action taken: 1, reward: 0.0, new state: [6. 0. 1.]\n",
      "action taken: 0, reward: 0.0, new state: [6. 0. 0.]\n",
      "action taken: 0, reward: 0.0, new state: [6. 0. 0.]\n",
      "action taken: 1, reward: 0.0, new state: [6. 1. 0.]\n",
      "action taken: 0, reward: 0.0, new state: [6. 1. 0.]\n",
      "action taken: 0, reward: 0.0, new state: [6. 2. 0.]\n",
      "action taken: 1, reward: 4.0, new state: [5. 1. 0.]\n",
      "action taken: 0, reward: 0.0, new state: [5. 2. 0.]\n",
      "action taken: 1, reward: 4.0, new state: [4. 0. 0.]\n",
      "action taken: 1, reward: 0.0, new state: [4. 0. 0.]\n",
      "action taken: 1, reward: 0.0, new state: [5. 1. 0.]\n",
      "action taken: 0, reward: 0.0, new state: [6. 1. 0.]\n",
      "action taken: 0, reward: 0.0, new state: [6. 2. 0.]\n",
      "action taken: 1, reward: 4.0, new state: [4. 0. 0.]\n",
      "action taken: 1, reward: 0.0, new state: [4. 0. 0.]\n",
      "action taken: 1, reward: 0.0, new state: [4. 1. 0.]\n",
      "action taken: 1, reward: 2.0, new state: [4. 0. 0.]\n",
      "action taken: 0, reward: 0.0, new state: [4. 0. 0.]\n",
      "action taken: 0, reward: 0.0, new state: [4. 1. 0.]\n",
      "action taken: 0, reward: 0.0, new state: [5. 1. 0.]\n",
      "action taken: 0, reward: 0.0, new state: [5. 1. 0.]\n",
      "action taken: 1, reward: 2.0, new state: [5. 1. 0.]\n",
      "action taken: 1, reward: 2.0, new state: [5. 0. 0.]\n",
      "action taken: 0, reward: 0.0, new state: [5. 0. 1.]\n",
      "action taken: 0, reward: 0.0, new state: [6. 1. 0.]\n",
      "action taken: 0, reward: 0.0, new state: [6. 1. 0.]\n",
      "action taken: 1, reward: 2.0, new state: [5. 1. 0.]\n",
      "total episode reward: 34.0\n",
      "\n"
     ]
    },
    {
     "name": "stderr",
     "output_type": "stream",
     "text": [
      "/home/curry/anaconda3/envs/tf/lib/python3.6/site-packages/torch/nn/modules/container.py:92: UserWarning: Implicit dimension choice for softmax has been deprecated. Change the call to include dim=X as an argument.\n",
      "  input = module(input)\n"
     ]
    }
   ],
   "source": [
    "env_example = gym.make('DynamicSetPacking-adversarial-v0')\n",
    "ag = LinearMatchAgent(env_example.observation_space.shape[0], gamma=0.999)\n",
    "ep_rewards = train_loop(env_example, ag, 3,1, 50, quiet=False)"
   ]
  },
  {
   "cell_type": "markdown",
   "metadata": {},
   "source": [
    "## adversary example (long)"
   ]
  },
  {
   "cell_type": "code",
   "execution_count": 31,
   "metadata": {},
   "outputs": [
    {
     "name": "stdout",
     "output_type": "stream",
     "text": [
      "Parameter containing:\n",
      "tensor([[-0.1163, -0.2289,  0.4787],\n",
      "        [ 0.0654,  0.4355, -0.1411]], device='cuda:0', requires_grad=True)\n"
     ]
    },
    {
     "data": {
      "application/vnd.jupyter.widget-view+json": {
       "model_id": "f1d49f87b4ff46f5adf5d7f97e8bf133",
       "version_major": 2,
       "version_minor": 0
      },
      "text/plain": [
       "HBox(children=(IntProgress(value=0, max=10000), HTML(value='')))"
      ]
     },
     "metadata": {},
     "output_type": "display_data"
    },
    {
     "name": "stdout",
     "output_type": "stream",
     "text": [
      "\n"
     ]
    }
   ],
   "source": [
    "env_example = gym.make('DynamicSetPacking-adversarial-v0')\n",
    "lin_ag = LinearMatchAgent(env_example.observation_space.shape[0], gamma=0.9999, gpu=True)\n",
    "print(lin_ag.policy_net[0].weight)\n",
    "ep_rewards = train_loop(env_example, lin_ag, 10000, 8,50, quiet=True)"
   ]
  },
  {
   "cell_type": "code",
   "execution_count": 32,
   "metadata": {},
   "outputs": [
    {
     "data": {
      "text/plain": [
       "93.17745"
      ]
     },
     "execution_count": 32,
     "metadata": {},
     "output_type": "execute_result"
    },
    {
     "data": {
      "image/png": "[encoded data removed]",
      "text/plain": [
       "<Figure size 432x288 with 1 Axes>"
      ]
     },
     "metadata": {
      "needs_background": "light"
     },
     "output_type": "display_data"
    }
   ],
   "source": [
    "plt.plot(ep_rewards)\n",
    "np.mean(ep_rewards)"
   ]
  },
  {
   "cell_type": "code",
   "execution_count": 33,
   "metadata": {},
   "outputs": [
    {
     "data": {
      "text/plain": [
       "Parameter containing:\n",
       "tensor([[-0.0811,  1.8084, -0.1062],\n",
       "        [ 0.0303, -1.6018,  0.4438]], device='cuda:0', requires_grad=True)"
      ]
     },
     "execution_count": 33,
     "metadata": {},
     "output_type": "execute_result"
    }
   ],
   "source": [
    "lin_ag.policy_net[0].weight"
   ]
  },
  {
   "cell_type": "code",
   "execution_count": 14,
   "metadata": {},
   "outputs": [],
   "source": [
    "def running_mean(x, N):\n",
    "    cumsum = np.cumsum(np.insert(x, 0, 0)) \n",
    "    return (cumsum[N:] - cumsum[:-N]) / float(N)"
   ]
  },
  {
   "cell_type": "code",
   "execution_count": null,
   "metadata": {},
   "outputs": [],
   "source": [
    "plt.plot(running_mean(ep_rewards, 5))\n",
    "plt.plot(running_mean(ep_rewards, 10))\n",
    "plt.plot(running_mean(ep_rewards, 20))"
   ]
  },
  {
   "cell_type": "code",
   "execution_count": 15,
   "metadata": {},
   "outputs": [],
   "source": [
    "class SmartMatchAgent(LinearMatchAgent):\n",
    "    def __init__(self, observation_shape, gamma=0.99):\n",
    "        super(SmartMatchAgent, self).__init__(observation_shape, gamma=gamma, gpu=False)\n",
    "        self.policy_net[0].weight.data = torch.Tensor([[1.0,1.0,-2.0],\n",
    "                                                       [-1.0,-1.0,20.0]])\n",
    "\n",
    "    def learn(self, d):\n",
    "        pass"
   ]
  },
  {
   "cell_type": "code",
   "execution_count": 28,
   "metadata": {},
   "outputs": [
    {
     "data": {
      "application/vnd.jupyter.widget-view+json": {
       "model_id": "af4804eb437c4179b3cb87a130fa1433",
       "version_major": 2,
       "version_minor": 0
      },
      "text/plain": [
       "HBox(children=(IntProgress(value=0, max=10000), HTML(value='')))"
      ]
     },
     "metadata": {},
     "output_type": "display_data"
    },
    {
     "name": "stdout",
     "output_type": "stream",
     "text": [
      "\n"
     ]
    }
   ],
   "source": [
    "\n",
    "env_example = gym.make('DynamicSetPacking-adversarial-v0')\n",
    "ag = SmartMatchAgent(env_example.observation_space.shape[0], gamma=0.9999)\n",
    "smart_ep_rewards = train_loop(env_example, ag, 10000, 8, 50, quiet=True)"
   ]
  },
  {
   "cell_type": "code",
   "execution_count": 29,
   "metadata": {},
   "outputs": [
    {
     "data": {
      "text/plain": [
       "[<matplotlib.lines.Line2D at 0x7f454deb1fd0>]"
      ]
     },
     "execution_count": 29,
     "metadata": {},
     "output_type": "execute_result"
    },
    {
     "data": {
      "image/png": "[encoded data removed]",
      "text/plain": [
       "<Figure size 432x288 with 1 Axes>"
      ]
     },
     "metadata": {
      "needs_background": "light"
     },
     "output_type": "display_data"
    }
   ],
   "source": [
    "plt.plot(smart_ep_rewards)"
   ]
  },
  {
   "cell_type": "code",
   "execution_count": 30,
   "metadata": {},
   "outputs": [
    {
     "data": {
      "text/plain": [
       "82.23685"
      ]
     },
     "execution_count": 30,
     "metadata": {},
     "output_type": "execute_result"
    }
   ],
   "source": [
    "np.mean(smart_ep_rewards)"
   ]
  },
  {
   "cell_type": "code",
   "execution_count": null,
   "metadata": {},
   "outputs": [],
   "source": []
  }
 ],
 "metadata": {
  "@webio": {
   "lastCommId": "1199081e25934bb48f58030ede2f2f9d",
   "lastKernelId": "e6436743-1d2f-40dd-94d8-c6c9de48f734"
  },
  "kernelspec": {
   "display_name": "Python 3",
   "language": "python",
   "name": "python3"
  },
  "language_info": {
   "codemirror_mode": {
    "name": "ipython",
    "version": 3
   },
   "file_extension": ".py",
   "mimetype": "text/x-python",
   "name": "python",
   "nbconvert_exporter": "python",
   "pygments_lexer": "ipython3",
   "version": "3.6.7"
  }
 },
 "nbformat": 4,
 "nbformat_minor": 2
}
